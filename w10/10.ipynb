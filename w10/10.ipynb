{
 "cells": [
  {
   "cell_type": "code",
   "execution_count": 1,
   "id": "9ab05839",
   "metadata": {},
   "outputs": [
    {
     "name": "stdout",
     "output_type": "stream",
     "text": [
      "WARNING:tensorflow:From C:\\Users\\Archana\\anaconda3\\Lib\\site-packages\\keras\\src\\losses.py:2976: The name tf.losses.sparse_softmax_cross_entropy is deprecated. Please use tf.compat.v1.losses.sparse_softmax_cross_entropy instead.\n",
      "\n"
     ]
    }
   ],
   "source": [
    "import numpy as np\n",
    "import tensorflow as tf\n",
    "from tensorflow.keras.datasets import mnist\n",
    "from tensorflow.keras.models import Sequential\n",
    "from tensorflow.keras.layers import Dense, Flatten\n",
    "from tensorflow.keras.optimizers import SGD\n",
    "from sklearn.model_selection import train_test_split\n",
    "from keras import backend as K\n",
    "import random"
   ]
  },
  {
   "cell_type": "code",
   "execution_count": 2,
   "id": "01261b36",
   "metadata": {},
   "outputs": [
    {
     "name": "stdout",
     "output_type": "stream",
     "text": [
      "WARNING:tensorflow:From C:\\Users\\Archana\\anaconda3\\Lib\\site-packages\\keras\\src\\backend.py:277: The name tf.reset_default_graph is deprecated. Please use tf.compat.v1.reset_default_graph instead.\n",
      "\n"
     ]
    }
   ],
   "source": [
    "\n",
    "np.random.seed(2321817) \n",
    "#\n",
    "random.seed(2321817)\n",
    "\n",
    "\n",
    "tf.random.set_seed(2321817)\n",
    "\n",
    "K.clear_session() # Set seed for Keras"
   ]
  },
  {
   "cell_type": "code",
   "execution_count": 3,
   "id": "8f4fb96a",
   "metadata": {},
   "outputs": [],
   "source": [
    "# Load MNIST dataset\n",
    "(x_train, y_train), (x_test, y_test) = mnist.load_data()"
   ]
  },
  {
   "cell_type": "code",
   "execution_count": 4,
   "id": "3a34ce8c",
   "metadata": {},
   "outputs": [],
   "source": [
    "# Normalize and reshape data\n",
    "x_train = x_train.astype('float32') / 255.0\n",
    "x_test = x_test.astype('float32') / 255.0\n",
    "x_train = np.expand_dims(x_train, -1)\n",
    "x_test = np.expand_dims(x_test, -1)"
   ]
  },
  {
   "cell_type": "code",
   "execution_count": 5,
   "id": "e0d1e704",
   "metadata": {},
   "outputs": [
    {
     "name": "stdout",
     "output_type": "stream",
     "text": [
      "(60000, 28, 28, 1)\n",
      "(10000, 28, 28, 1)\n"
     ]
    }
   ],
   "source": [
    "print(x_train.shape)\n",
    "print(x_test.shape)\n"
   ]
  },
  {
   "cell_type": "code",
   "execution_count": 6,
   "id": "90111596",
   "metadata": {},
   "outputs": [],
   "source": [
    "# Define client functions\n",
    "def create_client_model():\n",
    "    model = Sequential([\n",
    "        Flatten(input_shape=(28, 28, 1)),\n",
    "        Dense(128, activation='relu'),\n",
    "        Dense(10, activation='softmax')\n",
    "    ])\n",
    "    model.compile(optimizer='adam', loss='sparse_categorical_crossentropy', metrics=['accuracy'])\n",
    "    return model\n",
    "\n",
    "def train_client_model(model, x_train, y_train, epochs=5):\n",
    "    model.fit(x_train, y_train, epochs=epochs, \n",
    "              #verbose=0,\n",
    "             verbose=1)\n",
    "    return model"
   ]
  },
  {
   "cell_type": "code",
   "execution_count": 7,
   "id": "76b3bd24",
   "metadata": {},
   "outputs": [],
   "source": [
    "# Split data into two clients\n",
    "x_train_c1, x_train_c2, y_train_c1, y_train_c2 = train_test_split(x_train, y_train, test_size=0.5, \n",
    "                                                                  #random_state=42,\n",
    "                                                  # Put your SID instead of number '42'                \n",
    "                                                                  random_state= 2167288\n",
    "                                                                 )"
   ]
  },
  {
   "cell_type": "code",
   "execution_count": 8,
   "id": "21b7b730",
   "metadata": {},
   "outputs": [
    {
     "name": "stdout",
     "output_type": "stream",
     "text": [
      "(30000, 28, 28, 1)\n",
      "(30000, 28, 28, 1)\n",
      "(30000,)\n",
      "(30000,)\n"
     ]
    }
   ],
   "source": [
    "print(x_train_c1.shape)\n",
    "print(x_train_c2.shape)\n",
    "print(y_train_c1.shape)\n",
    "print(y_train_c2.shape)"
   ]
  },
  {
   "cell_type": "code",
   "execution_count": 9,
   "id": "46290c7b",
   "metadata": {},
   "outputs": [
    {
     "name": "stdout",
     "output_type": "stream",
     "text": [
      "WARNING:tensorflow:From C:\\Users\\Archana\\anaconda3\\Lib\\site-packages\\keras\\src\\optimizers\\__init__.py:309: The name tf.train.Optimizer is deprecated. Please use tf.compat.v1.train.Optimizer instead.\n",
      "\n",
      "Epoch 1/5\n",
      "WARNING:tensorflow:From C:\\Users\\Archana\\anaconda3\\Lib\\site-packages\\keras\\src\\utils\\tf_utils.py:492: The name tf.ragged.RaggedTensorValue is deprecated. Please use tf.compat.v1.ragged.RaggedTensorValue instead.\n",
      "\n",
      "WARNING:tensorflow:From C:\\Users\\Archana\\anaconda3\\Lib\\site-packages\\keras\\src\\engine\\base_layer_utils.py:384: The name tf.executing_eagerly_outside_functions is deprecated. Please use tf.compat.v1.executing_eagerly_outside_functions instead.\n",
      "\n",
      "938/938 [==============================] - 8s 6ms/step - loss: 0.3503 - accuracy: 0.9001\n",
      "Epoch 2/5\n",
      "938/938 [==============================] - 6s 6ms/step - loss: 0.1640 - accuracy: 0.9518\n",
      "Epoch 3/5\n",
      "938/938 [==============================] - 5s 5ms/step - loss: 0.1134 - accuracy: 0.9670\n",
      "Epoch 4/5\n",
      "938/938 [==============================] - 6s 7ms/step - loss: 0.0817 - accuracy: 0.9762\n",
      "Epoch 5/5\n",
      "938/938 [==============================] - 5s 5ms/step - loss: 0.0622 - accuracy: 0.9819\n",
      "Epoch 1/5\n",
      "938/938 [==============================] - 7s 5ms/step - loss: 0.3368 - accuracy: 0.9048\n",
      "Epoch 2/5\n",
      "938/938 [==============================] - 5s 5ms/step - loss: 0.1606 - accuracy: 0.9541\n",
      "Epoch 3/5\n",
      "938/938 [==============================] - 5s 5ms/step - loss: 0.1114 - accuracy: 0.9685\n",
      "Epoch 4/5\n",
      "938/938 [==============================] - 6s 6ms/step - loss: 0.0830 - accuracy: 0.9760\n",
      "Epoch 5/5\n",
      "938/938 [==============================] - 6s 6ms/step - loss: 0.0631 - accuracy: 0.9815\n"
     ]
    }
   ],
   "source": [
    "# Create and train client models\n",
    "\n",
    "client1_model = create_client_model()\n",
    "client2_model = create_client_model()\n",
    "\n",
    "client1_model = train_client_model(client1_model, x_train_c1, y_train_c1)\n",
    "client2_model = train_client_model(client2_model, x_train_c2, y_train_c2)"
   ]
  },
  {
   "cell_type": "code",
   "execution_count": 10,
   "id": "db39dfa9",
   "metadata": {},
   "outputs": [],
   "source": [
    "# Federated averaging\n",
    "\n",
    "def federated_average_weights(weights1, weights2):\n",
    "    new_weights = []\n",
    "    for w1, w2 in zip(weights1, weights2):\n",
    "        new_weights.append((w1 + w2) / 2)\n",
    "    return new_weights"
   ]
  },
  {
   "cell_type": "code",
   "execution_count": 11,
   "id": "a2b4a4bf",
   "metadata": {},
   "outputs": [],
   "source": [
    "# Aggregate models\n",
    "\n",
    "aggregated_weights = federated_average_weights(client1_model.get_weights(), client2_model.get_weights())"
   ]
  },
  {
   "cell_type": "code",
   "execution_count": 12,
   "id": "933b3b57",
   "metadata": {},
   "outputs": [],
   "source": [
    "# Create global model and set weights\n",
    "\n",
    "global_model = create_client_model()\n",
    "global_model.set_weights(aggregated_weights)"
   ]
  },
  {
   "cell_type": "code",
   "execution_count": 13,
   "id": "643f2ee8",
   "metadata": {},
   "outputs": [
    {
     "name": "stdout",
     "output_type": "stream",
     "text": [
      "313/313 - 2s - loss: 0.3876 - accuracy: 0.8890 - 2s/epoch - 7ms/step\n",
      "Test accuracy: 0.8889999985694885\n"
     ]
    }
   ],
   "source": [
    "# Evaluate global model\n",
    "\n",
    "test_loss, test_acc = global_model.evaluate(x_test, y_test, verbose=2)\n",
    "print('Test accuracy:', test_acc)"
   ]
  },
  {
   "cell_type": "code",
   "execution_count": 14,
   "id": "02a8c044",
   "metadata": {},
   "outputs": [],
   "source": [
    "test_accuracy = []"
   ]
  },
  {
   "cell_type": "code",
   "execution_count": 15,
   "id": "d8f75157",
   "metadata": {},
   "outputs": [],
   "source": [
    "test_accuracy.append(0.8851000070571899)"
   ]
  },
  {
   "cell_type": "code",
   "execution_count": 16,
   "id": "5678adbb",
   "metadata": {},
   "outputs": [
    {
     "data": {
      "text/plain": [
       "[0.8851000070571899]"
      ]
     },
     "execution_count": 16,
     "metadata": {},
     "output_type": "execute_result"
    }
   ],
   "source": [
    "test_accuracy"
   ]
  },
  {
   "cell_type": "code",
   "execution_count": 17,
   "id": "dd5d955e",
   "metadata": {},
   "outputs": [],
   "source": [
    "from sklearn.metrics import classification_report\n",
    "from sklearn.metrics import accuracy_score, precision_score, recall_score, f1_score"
   ]
  },
  {
   "cell_type": "code",
   "execution_count": 18,
   "id": "b5827e8b",
   "metadata": {},
   "outputs": [
    {
     "name": "stdout",
     "output_type": "stream",
     "text": [
      "313/313 [==============================] - 2s 4ms/step\n",
      "(10000, 10)\n"
     ]
    }
   ],
   "source": [
    "predictions = global_model.predict(x_test)\n",
    "print(predictions.shape)\n",
    "\n",
    "predictions = list(predictions.argmax(axis=1))"
   ]
  },
  {
   "cell_type": "code",
   "execution_count": 19,
   "id": "e73792e1",
   "metadata": {},
   "outputs": [
    {
     "name": "stdout",
     "output_type": "stream",
     "text": [
      "              precision    recall  f1-score   support\n",
      "\n",
      "           0       0.99      0.91      0.95       980\n",
      "           1       1.00      0.74      0.85      1135\n",
      "           2       0.80      0.97      0.87      1032\n",
      "           3       0.87      0.93      0.90      1010\n",
      "           4       0.92      0.95      0.93       982\n",
      "           5       0.93      0.89      0.91       892\n",
      "           6       0.97      0.95      0.96       958\n",
      "           7       0.83      0.96      0.89      1028\n",
      "           8       0.72      0.85      0.78       974\n",
      "           9       0.99      0.76      0.86      1009\n",
      "\n",
      "    accuracy                           0.89     10000\n",
      "   macro avg       0.90      0.89      0.89     10000\n",
      "weighted avg       0.90      0.89      0.89     10000\n",
      "\n"
     ]
    }
   ],
   "source": [
    "print(classification_report(y_test, predictions))"
   ]
  },
  {
   "cell_type": "code",
   "execution_count": 20,
   "id": "bb47ad4f",
   "metadata": {},
   "outputs": [
    {
     "name": "stdout",
     "output_type": "stream",
     "text": [
      "Accuracy test set:  0.889\n",
      "Precision test set:  0.9014703289389777\n",
      "Recall test set:  0.889\n",
      "F-score test set:  0.8894569339909256\n"
     ]
    }
   ],
   "source": [
    "print(\"Accuracy test set: \", accuracy_score(y_test, predictions))\n",
    "\n",
    "print(\"Precision test set: \", precision_score(y_test, predictions, average = 'weighted' )) \n",
    "print(\"Recall test set: \", recall_score(y_test, predictions, average = 'weighted' ))\n",
    "print(\"F-score test set: \", f1_score(y_test, predictions, average = 'weighted' ))"
   ]
  },
  {
   "cell_type": "code",
   "execution_count": 21,
   "id": "bab3a049",
   "metadata": {},
   "outputs": [],
   "source": [
    "test_precision = []\n",
    "test_recall    = []\n",
    "test_f1_score  = []"
   ]
  },
  {
   "cell_type": "code",
   "execution_count": 22,
   "id": "f11813c8",
   "metadata": {},
   "outputs": [],
   "source": [
    "test_precision.append(0.907323157047967)\n",
    "test_recall.append(0.8851)\n",
    "test_f1_score.append(0.8851514824563385)"
   ]
  },
  {
   "cell_type": "code",
   "execution_count": 23,
   "id": "0b8f160c",
   "metadata": {},
   "outputs": [],
   "source": [
    "from sklearn.metrics import confusion_matrix, ConfusionMatrixDisplay"
   ]
  },
  {
   "cell_type": "code",
   "execution_count": 24,
   "id": "b0cde766",
   "metadata": {},
   "outputs": [
    {
     "data": {
      "image/png": "[encoded data removed]",
      "text/plain": [
       "<Figure size 640x480 with 2 Axes>"
      ]
     },
     "metadata": {},
     "output_type": "display_data"
    }
   ],
   "source": [
    "# display confusion matrix between test output and predicted output\n",
    "\n",
    "cm = confusion_matrix(y_test, predictions) \n",
    "disp = ConfusionMatrixDisplay(confusion_matrix = cm)\n",
    "disp.plot();\n",
    "#plt.show()"
   ]
  },
  {
   "cell_type": "markdown",
   "id": "ce07d47a",
   "metadata": {},
   "source": [
    "# 4 Clients"
   ]
  },
  {
   "cell_type": "code",
   "execution_count": 25,
   "id": "f5734ea0",
   "metadata": {},
   "outputs": [],
   "source": [
    "Client_1 = (x_train[0:15000], y_train[0:15000])\n",
    "Client_2 = (x_train[15000:30000], y_train[15000:30000])\n",
    "Client_3 = (x_train[30000:45000], y_train[30000:45000])\n",
    "Client_4 = (x_train[45000:], y_train[45000:])"
   ]
  },
  {
   "cell_type": "code",
   "execution_count": 26,
   "id": "926777c1",
   "metadata": {},
   "outputs": [
    {
     "name": "stdout",
     "output_type": "stream",
     "text": [
      "(15000, 28, 28, 1)\n",
      "(15000, 28, 28, 1)\n",
      "(15000, 28, 28, 1)\n",
      "(15000, 28, 28, 1)\n",
      "(15000,)\n",
      "(15000,)\n",
      "(15000,)\n",
      "(15000,)\n"
     ]
    }
   ],
   "source": [
    "print(Client_1[0].shape)\n",
    "print(Client_2[0].shape)\n",
    "print(Client_3[0].shape)\n",
    "print(Client_4[0].shape)\n",
    "\n",
    "print(Client_1[1].shape)\n",
    "print(Client_2[1].shape)\n",
    "print(Client_3[1].shape)\n",
    "print(Client_4[1].shape)"
   ]
  },
  {
   "cell_type": "code",
   "execution_count": 27,
   "id": "e74263db",
   "metadata": {},
   "outputs": [
    {
     "name": "stdout",
     "output_type": "stream",
     "text": [
      "Epoch 1/5\n",
      "469/469 [==============================] - 3s 3ms/step - loss: 0.4476 - accuracy: 0.8756\n",
      "Epoch 2/5\n",
      "469/469 [==============================] - 1s 3ms/step - loss: 0.2106 - accuracy: 0.9397\n",
      "Epoch 3/5\n",
      "469/469 [==============================] - 1s 2ms/step - loss: 0.1489 - accuracy: 0.9566\n",
      "Epoch 4/5\n",
      "469/469 [==============================] - 1s 2ms/step - loss: 0.1091 - accuracy: 0.9686\n",
      "Epoch 5/5\n",
      "469/469 [==============================] - 1s 2ms/step - loss: 0.0836 - accuracy: 0.9771\n",
      "Epoch 1/5\n",
      "469/469 [==============================] - 2s 2ms/step - loss: 2.3117 - accuracy: 0.1032\n",
      "Epoch 2/5\n",
      "469/469 [==============================] - 1s 2ms/step - loss: 2.2969 - accuracy: 0.1157\n",
      "Epoch 3/5\n",
      "469/469 [==============================] - 1s 2ms/step - loss: 2.2864 - accuracy: 0.1311\n",
      "Epoch 4/5\n",
      "469/469 [==============================] - 1s 2ms/step - loss: 2.2707 - accuracy: 0.1456\n",
      "Epoch 5/5\n",
      "469/469 [==============================] - 1s 2ms/step - loss: 2.2500 - accuracy: 0.1523\n",
      "Epoch 1/5\n",
      "469/469 [==============================] - 2s 2ms/step - loss: 2.3140 - accuracy: 0.1025\n",
      "Epoch 2/5\n",
      "469/469 [==============================] - 1s 2ms/step - loss: 2.2981 - accuracy: 0.1165\n",
      "Epoch 3/5\n",
      "469/469 [==============================] - 1s 2ms/step - loss: 2.2888 - accuracy: 0.1311\n",
      "Epoch 4/5\n",
      "469/469 [==============================] - 1s 1ms/step - loss: 2.2739 - accuracy: 0.1417\n",
      "Epoch 5/5\n",
      "469/469 [==============================] - 1s 2ms/step - loss: 2.2536 - accuracy: 0.1592\n",
      "Epoch 1/5\n",
      "469/469 [==============================] - 1s 2ms/step - loss: 2.3142 - accuracy: 0.1030\n",
      "Epoch 2/5\n",
      "469/469 [==============================] - 1s 2ms/step - loss: 2.2974 - accuracy: 0.1154\n",
      "Epoch 3/5\n",
      "469/469 [==============================] - 1s 2ms/step - loss: 2.2889 - accuracy: 0.1261\n",
      "Epoch 4/5\n",
      "469/469 [==============================] - 1s 1ms/step - loss: 2.2748 - accuracy: 0.1433\n",
      "Epoch 5/5\n",
      "469/469 [==============================] - 1s 1ms/step - loss: 2.2560 - accuracy: 0.1565\n"
     ]
    }
   ],
   "source": [
    "# Create and train client models\n",
    "client1_model = create_client_model()\n",
    "client2_model = create_client_model()\n",
    "client3_model = create_client_model()\n",
    "client4_model = create_client_model()\n",
    "\n",
    "client1_model = train_client_model(client1_model, Client_1[0], Client_1[1])\n",
    "client2_model = train_client_model(client2_model, Client_2[0], Client_1[1])\n",
    "client3_model = train_client_model(client3_model, Client_3[0], Client_1[1])\n",
    "client4_model = train_client_model(client4_model, Client_4[0], Client_1[1])"
   ]
  },
  {
   "cell_type": "code",
   "execution_count": 28,
   "id": "bdd226d5",
   "metadata": {},
   "outputs": [],
   "source": [
    "# Federated averaging\n",
    "def federated_average_weights(weights1, weights2, weights3, weights4):\n",
    "    new_weights = []\n",
    "    for w1, w2, w3, w4 in zip(weights1, weights2, weights3, weights4):\n",
    "        new_weights.append((w1 + w2 + w3 + w4) / 4)\n",
    "    return new_weights\n"
   ]
  },
  {
   "cell_type": "code",
   "execution_count": 29,
   "id": "83fa231a",
   "metadata": {},
   "outputs": [],
   "source": [
    "# Aggregate models\n",
    "aggregated_weights = federated_average_weights(client1_model.get_weights(), \n",
    "                                               client2_model.get_weights(), \n",
    "                                               client3_model.get_weights(),\n",
    "                                               client4_model.get_weights())\n",
    "\n",
    "# Create global model and set weights\n",
    "global_model = create_client_model()\n",
    "global_model.set_weights(aggregated_weights)"
   ]
  },
  {
   "cell_type": "code",
   "execution_count": 30,
   "id": "4edc6c74",
   "metadata": {},
   "outputs": [
    {
     "name": "stdout",
     "output_type": "stream",
     "text": [
      "313/313 - 0s - loss: 2.2366 - accuracy: 0.2875 - 482ms/epoch - 2ms/step\n",
      "Test accuracy: 0.2874999940395355\n"
     ]
    }
   ],
   "source": [
    "# Evaluate global model\n",
    "test_loss, test_acc = global_model.evaluate(x_test, y_test, verbose=2)\n",
    "print('Test accuracy:', test_acc)"
   ]
  },
  {
   "cell_type": "code",
   "execution_count": 31,
   "id": "ebb01eb2",
   "metadata": {},
   "outputs": [
    {
     "name": "stdout",
     "output_type": "stream",
     "text": [
      "313/313 [==============================] - 0s 860us/step\n",
      "(10000, 10)\n"
     ]
    }
   ],
   "source": [
    "predictions = global_model.predict(x_test)\n",
    "print(predictions.shape)\n",
    "\n",
    "predictions = list(predictions.argmax(axis=1))"
   ]
  },
  {
   "cell_type": "code",
   "execution_count": 32,
   "id": "7cb08a75",
   "metadata": {},
   "outputs": [
    {
     "name": "stdout",
     "output_type": "stream",
     "text": [
      "Accuracy test set:  0.2875\n",
      "Precision test set:  0.3593760627430135\n",
      "Recall test set:  0.2875\n",
      "F-score test set:  0.2666151434259582\n",
      "              precision    recall  f1-score   support\n",
      "\n",
      "           0       0.47      0.20      0.28       980\n",
      "           1       0.16      0.25      0.20      1135\n",
      "           2       0.55      0.20      0.29      1032\n",
      "           3       0.19      0.52      0.27      1010\n",
      "           4       0.51      0.20      0.28       982\n",
      "           5       0.56      0.18      0.27       892\n",
      "           6       0.35      0.65      0.46       958\n",
      "           7       0.34      0.53      0.41      1028\n",
      "           8       0.26      0.03      0.05       974\n",
      "           9       0.23      0.12      0.16      1009\n",
      "\n",
      "    accuracy                           0.29     10000\n",
      "   macro avg       0.36      0.29      0.27     10000\n",
      "weighted avg       0.36      0.29      0.27     10000\n",
      "\n"
     ]
    }
   ],
   "source": [
    "print(\"Accuracy test set: \", accuracy_score(y_test, predictions))\n",
    "\n",
    "print(\"Precision test set: \", precision_score(y_test, predictions, average = 'weighted' )) \n",
    "print(\"Recall test set: \", recall_score(y_test, predictions, average = 'weighted' ))\n",
    "print(\"F-score test set: \", f1_score(y_test, predictions, average = 'weighted' ))\n",
    "\n",
    "print(classification_report(y_test, predictions))"
   ]
  },
  {
   "cell_type": "code",
   "execution_count": 33,
   "id": "d3451388",
   "metadata": {},
   "outputs": [],
   "source": [
    "test_accuracy.append(0.28790000081062317)\n",
    "test_precision.append(0.37310911314701634)\n",
    "test_recall.append(0.2879)\n",
    "test_f1_score.append(0.2500357846568731)"
   ]
  },
  {
   "cell_type": "code",
   "execution_count": 34,
   "id": "7adfe9b4",
   "metadata": {},
   "outputs": [
    {
     "name": "stdout",
     "output_type": "stream",
     "text": [
      "[0.8851000070571899, 0.28790000081062317]\n",
      "[0.907323157047967, 0.37310911314701634]\n",
      "[0.8851, 0.2879]\n",
      "[0.8851514824563385, 0.2500357846568731]\n"
     ]
    }
   ],
   "source": [
    "print(test_accuracy)\n",
    "print(test_precision)\n",
    "print(test_recall)\n",
    "print(test_f1_score)"
   ]
  },
  {
   "cell_type": "markdown",
   "id": "d8814992",
   "metadata": {},
   "source": [
    "# 6 Clients"
   ]
  },
  {
   "cell_type": "code",
   "execution_count": 35,
   "id": "d10eb1e7",
   "metadata": {},
   "outputs": [
    {
     "name": "stdout",
     "output_type": "stream",
     "text": [
      "(10000, 28, 28, 1)\n",
      "(10000, 28, 28, 1)\n",
      "(10000, 28, 28, 1)\n",
      "(10000, 28, 28, 1)\n",
      "(10000, 28, 28, 1)\n",
      "(10000, 28, 28, 1)\n",
      "(10000,)\n",
      "(10000,)\n",
      "(10000,)\n",
      "(10000,)\n",
      "(10000,)\n",
      "(10000,)\n"
     ]
    }
   ],
   "source": [
    "Client_1 = (x_train[0:10000], y_train[0:10000])\n",
    "Client_2 = (x_train[10000:20000], y_train[10000:20000])\n",
    "Client_3 = (x_train[20000:30000], y_train[20000:30000])\n",
    "Client_4 = (x_train[30000:40000], y_train[30000:40000])\n",
    "Client_5 = (x_train[40000:50000], y_train[40000:50000])\n",
    "Client_6 = (x_train[50000:], y_train[50000:])\n",
    "\n",
    "print(Client_1[0].shape)\n",
    "print(Client_2[0].shape)\n",
    "print(Client_3[0].shape)\n",
    "print(Client_4[0].shape)\n",
    "print(Client_5[0].shape)\n",
    "print(Client_6[0].shape)\n",
    "\n",
    "print(Client_1[1].shape)\n",
    "print(Client_2[1].shape)\n",
    "print(Client_3[1].shape)\n",
    "print(Client_4[1].shape)\n",
    "print(Client_5[1].shape)\n",
    "print(Client_6[1].shape)"
   ]
  },
  {
   "cell_type": "code",
   "execution_count": 36,
   "id": "caa1e06f",
   "metadata": {},
   "outputs": [
    {
     "name": "stdout",
     "output_type": "stream",
     "text": [
      "Epoch 1/5\n",
      "313/313 [==============================] - 1s 2ms/step - loss: 0.5128 - accuracy: 0.8646\n",
      "Epoch 2/5\n",
      "313/313 [==============================] - 0s 2ms/step - loss: 0.2369 - accuracy: 0.9332\n",
      "Epoch 3/5\n",
      "313/313 [==============================] - 0s 2ms/step - loss: 0.1704 - accuracy: 0.9493\n",
      "Epoch 4/5\n",
      "313/313 [==============================] - 0s 2ms/step - loss: 0.1292 - accuracy: 0.9643\n",
      "Epoch 5/5\n",
      "313/313 [==============================] - 0s 1ms/step - loss: 0.0984 - accuracy: 0.9731\n",
      "Epoch 1/5\n",
      "313/313 [==============================] - 1s 1ms/step - loss: 2.3207 - accuracy: 0.1003\n",
      "Epoch 2/5\n",
      "313/313 [==============================] - 0s 2ms/step - loss: 2.2944 - accuracy: 0.1251\n",
      "Epoch 3/5\n",
      "313/313 [==============================] - 0s 1ms/step - loss: 2.2828 - accuracy: 0.1348\n",
      "Epoch 4/5\n",
      "313/313 [==============================] - 0s 2ms/step - loss: 2.2632 - accuracy: 0.1530\n",
      "Epoch 5/5\n",
      "313/313 [==============================] - 0s 1ms/step - loss: 2.2382 - accuracy: 0.1691\n",
      "Epoch 1/5\n",
      "313/313 [==============================] - 1s 1ms/step - loss: 2.3182 - accuracy: 0.1048\n",
      "Epoch 2/5\n",
      "313/313 [==============================] - 0s 2ms/step - loss: 2.2927 - accuracy: 0.1280\n",
      "Epoch 3/5\n",
      "313/313 [==============================] - 0s 1ms/step - loss: 2.2791 - accuracy: 0.1418\n",
      "Epoch 4/5\n",
      "313/313 [==============================] - 0s 2ms/step - loss: 2.2603 - accuracy: 0.1563\n",
      "Epoch 5/5\n",
      "313/313 [==============================] - 0s 2ms/step - loss: 2.2323 - accuracy: 0.1735\n",
      "Epoch 1/5\n",
      "313/313 [==============================] - 1s 2ms/step - loss: 2.3207 - accuracy: 0.1024\n",
      "Epoch 2/5\n",
      "313/313 [==============================] - 0s 2ms/step - loss: 2.2930 - accuracy: 0.1271\n",
      "Epoch 3/5\n",
      "313/313 [==============================] - 0s 1ms/step - loss: 2.2769 - accuracy: 0.1412\n",
      "Epoch 4/5\n",
      "313/313 [==============================] - 0s 2ms/step - loss: 2.2561 - accuracy: 0.1567\n",
      "Epoch 5/5\n",
      "313/313 [==============================] - 0s 2ms/step - loss: 2.2274 - accuracy: 0.1772\n",
      "Epoch 1/5\n",
      "313/313 [==============================] - 1s 2ms/step - loss: 0.5526 - accuracy: 0.8452\n",
      "Epoch 2/5\n",
      "313/313 [==============================] - 1s 2ms/step - loss: 0.2573 - accuracy: 0.9270\n",
      "Epoch 3/5\n",
      "313/313 [==============================] - 1s 2ms/step - loss: 0.1968 - accuracy: 0.9420\n",
      "Epoch 4/5\n",
      "313/313 [==============================] - 0s 2ms/step - loss: 0.1561 - accuracy: 0.9576\n",
      "Epoch 5/5\n",
      "313/313 [==============================] - 1s 2ms/step - loss: 0.1245 - accuracy: 0.9666\n",
      "Epoch 1/5\n",
      "313/313 [==============================] - 1s 2ms/step - loss: 0.4801 - accuracy: 0.8699\n",
      "Epoch 2/5\n",
      "313/313 [==============================] - 1s 2ms/step - loss: 0.2252 - accuracy: 0.9358\n",
      "Epoch 3/5\n",
      "313/313 [==============================] - 0s 1ms/step - loss: 0.1600 - accuracy: 0.9558\n",
      "Epoch 4/5\n",
      "313/313 [==============================] - 1s 2ms/step - loss: 0.1198 - accuracy: 0.9673\n",
      "Epoch 5/5\n",
      "313/313 [==============================] - 1s 2ms/step - loss: 0.0941 - accuracy: 0.9740\n"
     ]
    }
   ],
   "source": [
    "# Create and train client models\n",
    "client1_model = create_client_model()\n",
    "client2_model = create_client_model()\n",
    "client3_model = create_client_model()\n",
    "client4_model = create_client_model()\n",
    "client5_model = create_client_model()\n",
    "client6_model = create_client_model()\n",
    "\n",
    "client1_model = train_client_model(client1_model, Client_1[0], Client_1[1])\n",
    "client2_model = train_client_model(client2_model, Client_2[0], Client_1[1])\n",
    "client3_model = train_client_model(client3_model, Client_3[0], Client_1[1])\n",
    "client4_model = train_client_model(client4_model, Client_4[0], Client_1[1])\n",
    "client5_model = train_client_model(client5_model, Client_5[0], Client_5[1])\n",
    "client6_model = train_client_model(client6_model, Client_6[0], Client_6[1])"
   ]
  },
  {
   "cell_type": "code",
   "execution_count": 37,
   "id": "a1dbe1a2",
   "metadata": {},
   "outputs": [],
   "source": [
    "# Federated averaging\n",
    "def federated_average_weights(weights1, weights2, weights3, weights4, weights5, weights6):\n",
    "    new_weights = []\n",
    "    for w1, w2, w3, w4, w5, w6 in zip(weights1, weights2, weights3, weights4, weights5, weights6):\n",
    "        new_weights.append((w1 + w2 + w3 + w4 + w5 + w6) / 6)\n",
    "    return new_weights\n",
    "\n",
    "\n",
    "# Aggregate models\n",
    "aggregated_weights = federated_average_weights(client1_model.get_weights(), \n",
    "                                               client2_model.get_weights(), \n",
    "                                               client3_model.get_weights(),\n",
    "                                               client4_model.get_weights(),\n",
    "                                               client5_model.get_weights(),\n",
    "                                               client6_model.get_weights())\n",
    "\n",
    "# Create global model and set weights\n",
    "global_model = create_client_model()\n",
    "global_model.set_weights(aggregated_weights)"
   ]
  },
  {
   "cell_type": "code",
   "execution_count": 38,
   "id": "338f7c6b",
   "metadata": {},
   "outputs": [
    {
     "name": "stdout",
     "output_type": "stream",
     "text": [
      "313/313 - 1s - loss: 1.9790 - accuracy: 0.7278 - 503ms/epoch - 2ms/step\n",
      "Test accuracy: 0.7278000116348267\n",
      "313/313 [==============================] - 0s 943us/step\n",
      "(10000, 10)\n",
      "Accuracy test set:  0.7278\n",
      "Precision test set:  0.7917031768520101\n",
      "Recall test set:  0.7278\n",
      "F-score test set:  0.7142504214914518\n",
      "              precision    recall  f1-score   support\n",
      "\n",
      "           0       0.93      0.84      0.89       980\n",
      "           1       0.98      0.84      0.90      1135\n",
      "           2       0.74      0.81      0.78      1032\n",
      "           3       0.77      0.65      0.70      1010\n",
      "           4       0.89      0.85      0.87       982\n",
      "           5       0.84      0.69      0.75       892\n",
      "           6       0.88      0.80      0.84       958\n",
      "           7       0.64      0.96      0.77      1028\n",
      "           8       0.88      0.07      0.13       974\n",
      "           9       0.37      0.74      0.49      1009\n",
      "\n",
      "    accuracy                           0.73     10000\n",
      "   macro avg       0.79      0.72      0.71     10000\n",
      "weighted avg       0.79      0.73      0.71     10000\n",
      "\n"
     ]
    }
   ],
   "source": [
    "# Evaluate global model\n",
    "test_loss, test_acc = global_model.evaluate(x_test, y_test, verbose=2)\n",
    "print('Test accuracy:', test_acc)\n",
    "\n",
    "predictions = global_model.predict(x_test)\n",
    "print(predictions.shape)\n",
    "\n",
    "predictions = list(predictions.argmax(axis=1))\n",
    "\n",
    "print(\"Accuracy test set: \", accuracy_score(y_test, predictions))\n",
    "\n",
    "print(\"Precision test set: \", precision_score(y_test, predictions, average = 'weighted' )) \n",
    "print(\"Recall test set: \", recall_score(y_test, predictions, average = 'weighted' ))\n",
    "print(\"F-score test set: \", f1_score(y_test, predictions, average = 'weighted' ))\n",
    "\n",
    "print(classification_report(y_test, predictions))"
   ]
  },
  {
   "cell_type": "code",
   "execution_count": 39,
   "id": "25d558aa",
   "metadata": {},
   "outputs": [
    {
     "name": "stdout",
     "output_type": "stream",
     "text": [
      "[0.8851000070571899, 0.28790000081062317, 0.7271999716758728]\n",
      "[0.907323157047967, 0.37310911314701634, 0.7834205071021751]\n",
      "[0.8851, 0.2879, 0.7272]\n",
      "[0.8851514824563385, 0.2500357846568731, 0.7308748558259915]\n"
     ]
    }
   ],
   "source": [
    "test_accuracy.append(0.7271999716758728)\n",
    "test_precision.append(0.7834205071021751)\n",
    "test_recall.append(0.7272)\n",
    "test_f1_score.append(0.7308748558259915)\n",
    "\n",
    "print(test_accuracy)\n",
    "print(test_precision)\n",
    "print(test_recall)\n",
    "print(test_f1_score)"
   ]
  },
  {
   "cell_type": "markdown",
   "id": "15e870b8",
   "metadata": {},
   "source": [
    "# 8 Clients"
   ]
  },
  {
   "cell_type": "code",
   "execution_count": 40,
   "id": "7c1d2dac",
   "metadata": {},
   "outputs": [
    {
     "name": "stdout",
     "output_type": "stream",
     "text": [
      "(7500, 28, 28, 1)\n",
      "(7500, 28, 28, 1)\n",
      "(7500, 28, 28, 1)\n",
      "(7500, 28, 28, 1)\n",
      "(7500, 28, 28, 1)\n",
      "(7500, 28, 28, 1)\n",
      "(7500, 28, 28, 1)\n",
      "(7500, 28, 28, 1)\n",
      "(7500,)\n",
      "(7500,)\n",
      "(7500,)\n",
      "(7500,)\n",
      "(7500,)\n",
      "(7500,)\n",
      "(7500,)\n",
      "(7500,)\n",
      "Epoch 1/5\n",
      "235/235 [==============================] - 1s 2ms/step - loss: 0.5740 - accuracy: 0.8469\n",
      "Epoch 2/5\n",
      "235/235 [==============================] - 0s 2ms/step - loss: 0.2540 - accuracy: 0.9279\n",
      "Epoch 3/5\n",
      "235/235 [==============================] - 0s 2ms/step - loss: 0.1952 - accuracy: 0.9448\n",
      "Epoch 4/5\n",
      "235/235 [==============================] - 0s 2ms/step - loss: 0.1498 - accuracy: 0.9561\n",
      "Epoch 5/5\n",
      "235/235 [==============================] - 0s 2ms/step - loss: 0.1194 - accuracy: 0.9672\n",
      "Epoch 1/5\n",
      "235/235 [==============================] - 1s 1ms/step - loss: 2.3204 - accuracy: 0.1029\n",
      "Epoch 2/5\n",
      "235/235 [==============================] - 0s 1ms/step - loss: 2.2879 - accuracy: 0.1325\n",
      "Epoch 3/5\n",
      "235/235 [==============================] - 0s 1ms/step - loss: 2.2680 - accuracy: 0.1464\n",
      "Epoch 4/5\n",
      "235/235 [==============================] - 0s 2ms/step - loss: 2.2381 - accuracy: 0.1717\n",
      "Epoch 5/5\n",
      "235/235 [==============================] - 0s 2ms/step - loss: 2.2053 - accuracy: 0.1855\n",
      "Epoch 1/5\n",
      "235/235 [==============================] - 1s 2ms/step - loss: 2.3260 - accuracy: 0.1029\n",
      "Epoch 2/5\n",
      "235/235 [==============================] - 0s 2ms/step - loss: 2.2831 - accuracy: 0.1375\n",
      "Epoch 3/5\n",
      "235/235 [==============================] - 0s 2ms/step - loss: 2.2562 - accuracy: 0.1555\n",
      "Epoch 4/5\n",
      "235/235 [==============================] - 0s 2ms/step - loss: 2.2267 - accuracy: 0.1721\n",
      "Epoch 5/5\n",
      "235/235 [==============================] - 0s 2ms/step - loss: 2.1921 - accuracy: 0.1985\n",
      "Epoch 1/5\n",
      "235/235 [==============================] - 1s 2ms/step - loss: 2.3223 - accuracy: 0.0949\n",
      "Epoch 2/5\n",
      "235/235 [==============================] - 0s 1ms/step - loss: 2.2879 - accuracy: 0.1301\n",
      "Epoch 3/5\n",
      "235/235 [==============================] - 0s 2ms/step - loss: 2.2667 - accuracy: 0.1553\n",
      "Epoch 4/5\n",
      "235/235 [==============================] - 0s 1ms/step - loss: 2.2398 - accuracy: 0.1695\n",
      "Epoch 5/5\n",
      "235/235 [==============================] - 0s 2ms/step - loss: 2.2085 - accuracy: 0.1911\n",
      "Epoch 1/5\n",
      "235/235 [==============================] - 1s 2ms/step - loss: 0.6002 - accuracy: 0.8315\n",
      "Epoch 2/5\n",
      "235/235 [==============================] - 0s 2ms/step - loss: 0.2717 - accuracy: 0.9248\n",
      "Epoch 3/5\n",
      "235/235 [==============================] - 0s 2ms/step - loss: 0.2019 - accuracy: 0.9459\n",
      "Epoch 4/5\n",
      "235/235 [==============================] - 0s 1ms/step - loss: 0.1565 - accuracy: 0.9584\n",
      "Epoch 5/5\n",
      "235/235 [==============================] - 0s 1ms/step - loss: 0.1233 - accuracy: 0.9676\n",
      "Epoch 1/5\n",
      "235/235 [==============================] - 1s 2ms/step - loss: 0.6061 - accuracy: 0.8319\n",
      "Epoch 2/5\n",
      "235/235 [==============================] - 0s 2ms/step - loss: 0.2791 - accuracy: 0.9189\n",
      "Epoch 3/5\n",
      "235/235 [==============================] - 0s 1ms/step - loss: 0.2046 - accuracy: 0.9432\n",
      "Epoch 4/5\n",
      "235/235 [==============================] - 0s 1ms/step - loss: 0.1620 - accuracy: 0.9552\n",
      "Epoch 5/5\n",
      "235/235 [==============================] - 0s 2ms/step - loss: 0.1207 - accuracy: 0.9692\n",
      "Epoch 1/5\n",
      "235/235 [==============================] - 1s 1ms/step - loss: 0.6005 - accuracy: 0.8344\n",
      "Epoch 2/5\n",
      "235/235 [==============================] - 0s 2ms/step - loss: 0.2851 - accuracy: 0.9208\n",
      "Epoch 3/5\n",
      "235/235 [==============================] - 0s 2ms/step - loss: 0.2135 - accuracy: 0.9441\n",
      "Epoch 4/5\n",
      "235/235 [==============================] - 0s 2ms/step - loss: 0.1680 - accuracy: 0.9521\n",
      "Epoch 5/5\n",
      "235/235 [==============================] - 0s 2ms/step - loss: 0.1330 - accuracy: 0.9647\n",
      "Epoch 1/5\n",
      "235/235 [==============================] - 1s 2ms/step - loss: 0.5515 - accuracy: 0.8461\n",
      "Epoch 2/5\n",
      "235/235 [==============================] - 0s 2ms/step - loss: 0.2387 - accuracy: 0.9305\n",
      "Epoch 3/5\n",
      "235/235 [==============================] - 0s 2ms/step - loss: 0.1734 - accuracy: 0.9507\n",
      "Epoch 4/5\n",
      "235/235 [==============================] - 0s 1ms/step - loss: 0.1350 - accuracy: 0.9619\n",
      "Epoch 5/5\n",
      "235/235 [==============================] - 0s 2ms/step - loss: 0.1018 - accuracy: 0.9720\n"
     ]
    }
   ],
   "source": [
    "Client_1 = (x_train[0:7500], y_train[0:7500])\n",
    "Client_2 = (x_train[7500:15000], y_train[7500:15000])\n",
    "Client_3 = (x_train[15000:22500], y_train[15000:22500])\n",
    "Client_4 = (x_train[22500:30000], y_train[22500:30000])\n",
    "Client_5 = (x_train[30000:37500], y_train[30000:37500])\n",
    "Client_6 = (x_train[37500:45000], y_train[37500:45000])\n",
    "Client_7 = (x_train[45000:52500], y_train[45000:52500])\n",
    "Client_8 = (x_train[52500:], y_train[52500:])\n",
    "\n",
    "print(Client_1[0].shape)\n",
    "print(Client_2[0].shape)\n",
    "print(Client_3[0].shape)\n",
    "print(Client_4[0].shape)\n",
    "print(Client_5[0].shape)\n",
    "print(Client_6[0].shape)\n",
    "print(Client_7[0].shape)\n",
    "print(Client_8[0].shape)\n",
    "\n",
    "print(Client_1[1].shape)\n",
    "print(Client_2[1].shape)\n",
    "print(Client_3[1].shape)\n",
    "print(Client_4[1].shape)\n",
    "print(Client_5[1].shape)\n",
    "print(Client_6[1].shape)\n",
    "print(Client_7[1].shape)\n",
    "print(Client_8[1].shape)\n",
    "\n",
    "# Create and train client models\n",
    "client1_model = create_client_model()\n",
    "client2_model = create_client_model()\n",
    "client3_model = create_client_model()\n",
    "client4_model = create_client_model()\n",
    "client5_model = create_client_model()\n",
    "client6_model = create_client_model()\n",
    "client7_model = create_client_model()\n",
    "client8_model = create_client_model()\n",
    "\n",
    "client1_model = train_client_model(client1_model, Client_1[0], Client_1[1])\n",
    "client2_model = train_client_model(client2_model, Client_2[0], Client_1[1])\n",
    "client3_model = train_client_model(client3_model, Client_3[0], Client_1[1])\n",
    "client4_model = train_client_model(client4_model, Client_4[0], Client_1[1])\n",
    "client5_model = train_client_model(client5_model, Client_5[0], Client_5[1])\n",
    "client6_model = train_client_model(client6_model, Client_6[0], Client_6[1])\n",
    "client7_model = train_client_model(client7_model, Client_7[0], Client_7[1])\n",
    "client8_model = train_client_model(client8_model, Client_8[0], Client_8[1])"
   ]
  },
  {
   "cell_type": "code",
   "execution_count": 41,
   "id": "72d9ac25",
   "metadata": {},
   "outputs": [],
   "source": [
    "# Federated averaging\n",
    "def federated_average_weights(weights1, weights2, weights3, weights4, \n",
    "                              weights5, weights6, weights7, weights8):\n",
    "    new_weights = []\n",
    "    for w1, w2, w3, w4, w5, w6, w7, w8 in zip(weights1, weights2, weights3, weights4, \n",
    "                                              weights5, weights6, weights7, weights8):\n",
    "        new_weights.append((w1 + w2 + w3 + w4 + w5 + w6 + w7 +w8) / 8)\n",
    "    return new_weights\n",
    "\n",
    "\n",
    "# Aggregate models\n",
    "aggregated_weights = federated_average_weights(client1_model.get_weights(), \n",
    "                                               client2_model.get_weights(), \n",
    "                                               client3_model.get_weights(),\n",
    "                                               client4_model.get_weights(),\n",
    "                                               client5_model.get_weights(),\n",
    "                                               client6_model.get_weights(),\n",
    "                                               client7_model.get_weights(),\n",
    "                                               client8_model.get_weights())\n",
    "\n",
    "# Create global model and set weights\n",
    "global_model = create_client_model()\n",
    "global_model.set_weights(aggregated_weights)"
   ]
  },
  {
   "cell_type": "code",
   "execution_count": 42,
   "id": "e9d4ddda",
   "metadata": {},
   "outputs": [
    {
     "name": "stdout",
     "output_type": "stream",
     "text": [
      "313/313 - 1s - loss: 1.7823 - accuracy: 0.8274 - 504ms/epoch - 2ms/step\n",
      "Test accuracy: 0.8274000287055969\n",
      "313/313 [==============================] - 0s 943us/step\n",
      "(10000, 10)\n",
      "Accuracy test set:  0.8274\n",
      "Precision test set:  0.8487598098138964\n",
      "Recall test set:  0.8274\n",
      "F-score test set:  0.8209928727933631\n",
      "              precision    recall  f1-score   support\n",
      "\n",
      "           0       0.92      0.92      0.92       980\n",
      "           1       0.98      0.92      0.95      1135\n",
      "           2       0.71      0.91      0.80      1032\n",
      "           3       0.71      0.89      0.79      1010\n",
      "           4       0.95      0.70      0.81       982\n",
      "           5       0.76      0.80      0.78       892\n",
      "           6       0.88      0.91      0.90       958\n",
      "           7       0.79      0.95      0.87      1028\n",
      "           8       0.99      0.41      0.58       974\n",
      "           9       0.78      0.83      0.81      1009\n",
      "\n",
      "    accuracy                           0.83     10000\n",
      "   macro avg       0.85      0.82      0.82     10000\n",
      "weighted avg       0.85      0.83      0.82     10000\n",
      "\n"
     ]
    }
   ],
   "source": [
    "# Evaluate global model\n",
    "test_loss, test_acc = global_model.evaluate(x_test, y_test, verbose=2)\n",
    "print('Test accuracy:', test_acc)\n",
    "\n",
    "predictions = global_model.predict(x_test)\n",
    "print(predictions.shape)\n",
    "\n",
    "predictions = list(predictions.argmax(axis=1))\n",
    "\n",
    "print(\"Accuracy test set: \", accuracy_score(y_test, predictions))\n",
    "\n",
    "print(\"Precision test set: \", precision_score(y_test, predictions, average = 'weighted' )) \n",
    "print(\"Recall test set: \", recall_score(y_test, predictions, average = 'weighted' ))\n",
    "print(\"F-score test set: \", f1_score(y_test, predictions, average = 'weighted' ))\n",
    "\n",
    "print(classification_report(y_test, predictions))"
   ]
  },
  {
   "cell_type": "code",
   "execution_count": 43,
   "id": "d8260cfb",
   "metadata": {},
   "outputs": [
    {
     "name": "stdout",
     "output_type": "stream",
     "text": [
      "[0.8851000070571899, 0.28790000081062317, 0.7271999716758728, 0.6028000116348267]\n",
      "[0.907323157047967, 0.37310911314701634, 0.7834205071021751, 0.7986126719530607]\n",
      "[0.8851, 0.2879, 0.7272, 0.6028]\n",
      "[0.8851514824563385, 0.2500357846568731, 0.7308748558259915, 0.5536289939655649]\n"
     ]
    }
   ],
   "source": [
    "test_accuracy.append(0.6028000116348267)\n",
    "test_precision.append(0.7986126719530607)\n",
    "test_recall.append(0.6028)\n",
    "test_f1_score.append(0.5536289939655649)\n",
    "\n",
    "print(test_accuracy)\n",
    "print(test_precision)\n",
    "print(test_recall)\n",
    "print(test_f1_score)"
   ]
  },
  {
   "cell_type": "markdown",
   "id": "6e9ca700",
   "metadata": {},
   "source": [
    "# 10 Clients"
   ]
  },
  {
   "cell_type": "code",
   "execution_count": 44,
   "id": "0cb49a67",
   "metadata": {},
   "outputs": [
    {
     "name": "stdout",
     "output_type": "stream",
     "text": [
      "(6000, 28, 28, 1)\n",
      "(6000, 28, 28, 1)\n",
      "(6000, 28, 28, 1)\n",
      "(6000, 28, 28, 1)\n",
      "(6000, 28, 28, 1)\n",
      "(6000, 28, 28, 1)\n",
      "(6000, 28, 28, 1)\n",
      "(6000, 28, 28, 1)\n",
      "(6000, 28, 28, 1)\n",
      "(6000, 28, 28, 1)\n",
      "(6000,)\n",
      "(6000,)\n",
      "(6000,)\n",
      "(6000,)\n",
      "(6000,)\n",
      "(6000,)\n",
      "(6000,)\n",
      "(6000,)\n",
      "(6000,)\n",
      "(6000,)\n",
      "Epoch 1/5\n",
      "188/188 [==============================] - 1s 2ms/step - loss: 0.6300 - accuracy: 0.8305\n",
      "Epoch 2/5\n",
      "188/188 [==============================] - 0s 2ms/step - loss: 0.2765 - accuracy: 0.9260\n",
      "Epoch 3/5\n",
      "188/188 [==============================] - 0s 2ms/step - loss: 0.2019 - accuracy: 0.9423\n",
      "Epoch 4/5\n",
      "188/188 [==============================] - 0s 2ms/step - loss: 0.1577 - accuracy: 0.9570\n",
      "Epoch 5/5\n",
      "188/188 [==============================] - 0s 2ms/step - loss: 0.1216 - accuracy: 0.9700\n",
      "Epoch 1/5\n",
      "188/188 [==============================] - 1s 1ms/step - loss: 2.3276 - accuracy: 0.1023\n",
      "Epoch 2/5\n",
      "188/188 [==============================] - 0s 1ms/step - loss: 2.2815 - accuracy: 0.1403\n",
      "Epoch 3/5\n",
      "188/188 [==============================] - 0s 2ms/step - loss: 2.2532 - accuracy: 0.1640\n",
      "Epoch 4/5\n",
      "188/188 [==============================] - 0s 1ms/step - loss: 2.2244 - accuracy: 0.1703\n",
      "Epoch 5/5\n",
      "188/188 [==============================] - 0s 1ms/step - loss: 2.1826 - accuracy: 0.1995\n",
      "Epoch 1/5\n",
      "188/188 [==============================] - 1s 1ms/step - loss: 2.3300 - accuracy: 0.1043\n",
      "Epoch 2/5\n",
      "188/188 [==============================] - 0s 2ms/step - loss: 2.2845 - accuracy: 0.1340\n",
      "Epoch 3/5\n",
      "188/188 [==============================] - 0s 2ms/step - loss: 2.2583 - accuracy: 0.1600\n",
      "Epoch 4/5\n",
      "188/188 [==============================] - 0s 2ms/step - loss: 2.2280 - accuracy: 0.1760\n",
      "Epoch 5/5\n",
      "188/188 [==============================] - 0s 2ms/step - loss: 2.1855 - accuracy: 0.2125\n",
      "Epoch 1/5\n",
      "188/188 [==============================] - 1s 2ms/step - loss: 2.3290 - accuracy: 0.1020\n",
      "Epoch 2/5\n",
      "188/188 [==============================] - 0s 2ms/step - loss: 2.2858 - accuracy: 0.1380\n",
      "Epoch 3/5\n",
      "188/188 [==============================] - 0s 2ms/step - loss: 2.2611 - accuracy: 0.1528\n",
      "Epoch 4/5\n",
      "188/188 [==============================] - 0s 2ms/step - loss: 2.2304 - accuracy: 0.1752\n",
      "Epoch 5/5\n",
      "188/188 [==============================] - 0s 2ms/step - loss: 2.1956 - accuracy: 0.2010\n",
      "Epoch 1/5\n",
      "188/188 [==============================] - 1s 2ms/step - loss: 0.6637 - accuracy: 0.8132\n",
      "Epoch 2/5\n",
      "188/188 [==============================] - 0s 2ms/step - loss: 0.2914 - accuracy: 0.9173\n",
      "Epoch 3/5\n",
      "188/188 [==============================] - 0s 2ms/step - loss: 0.2154 - accuracy: 0.9428\n",
      "Epoch 4/5\n",
      "188/188 [==============================] - 0s 2ms/step - loss: 0.1640 - accuracy: 0.9562\n",
      "Epoch 5/5\n",
      "188/188 [==============================] - 0s 1ms/step - loss: 0.1303 - accuracy: 0.9640\n",
      "Epoch 1/5\n",
      "188/188 [==============================] - 1s 1ms/step - loss: 0.6739 - accuracy: 0.8168\n",
      "Epoch 2/5\n",
      "188/188 [==============================] - 0s 1ms/step - loss: 0.2922 - accuracy: 0.9162\n",
      "Epoch 3/5\n",
      "188/188 [==============================] - 0s 1ms/step - loss: 0.2157 - accuracy: 0.9402\n",
      "Epoch 4/5\n",
      "188/188 [==============================] - 0s 1ms/step - loss: 0.1694 - accuracy: 0.9527\n",
      "Epoch 5/5\n",
      "188/188 [==============================] - 0s 1ms/step - loss: 0.1347 - accuracy: 0.9652\n",
      "Epoch 1/5\n",
      "188/188 [==============================] - 1s 1ms/step - loss: 0.6390 - accuracy: 0.8270\n",
      "Epoch 2/5\n",
      "188/188 [==============================] - 0s 2ms/step - loss: 0.3009 - accuracy: 0.9177\n",
      "Epoch 3/5\n",
      "188/188 [==============================] - 0s 1ms/step - loss: 0.2254 - accuracy: 0.9408\n",
      "Epoch 4/5\n",
      "188/188 [==============================] - 0s 2ms/step - loss: 0.1816 - accuracy: 0.9465\n",
      "Epoch 5/5\n",
      "188/188 [==============================] - 0s 1ms/step - loss: 0.1443 - accuracy: 0.9603\n",
      "Epoch 1/5\n",
      "188/188 [==============================] - 1s 1ms/step - loss: 0.6870 - accuracy: 0.8083\n",
      "Epoch 2/5\n",
      "188/188 [==============================] - 0s 1ms/step - loss: 0.3029 - accuracy: 0.9115\n",
      "Epoch 3/5\n",
      "188/188 [==============================] - 0s 1ms/step - loss: 0.2213 - accuracy: 0.9400\n",
      "Epoch 4/5\n",
      "188/188 [==============================] - 0s 1ms/step - loss: 0.1757 - accuracy: 0.9532\n",
      "Epoch 5/5\n",
      "188/188 [==============================] - 0s 2ms/step - loss: 0.1413 - accuracy: 0.9622\n",
      "Epoch 1/5\n",
      "188/188 [==============================] - 1s 2ms/step - loss: 0.6546 - accuracy: 0.8170\n",
      "Epoch 2/5\n",
      "188/188 [==============================] - 0s 2ms/step - loss: 0.3003 - accuracy: 0.9155\n",
      "Epoch 3/5\n",
      "188/188 [==============================] - 0s 2ms/step - loss: 0.2306 - accuracy: 0.9357\n",
      "Epoch 4/5\n",
      "188/188 [==============================] - 0s 2ms/step - loss: 0.1795 - accuracy: 0.9477\n",
      "Epoch 5/5\n",
      "188/188 [==============================] - 0s 2ms/step - loss: 0.1415 - accuracy: 0.9620\n",
      "Epoch 1/5\n",
      "188/188 [==============================] - 1s 2ms/step - loss: 0.5993 - accuracy: 0.8368\n",
      "Epoch 2/5\n",
      "188/188 [==============================] - 0s 2ms/step - loss: 0.2393 - accuracy: 0.9327\n",
      "Epoch 3/5\n",
      "188/188 [==============================] - 0s 2ms/step - loss: 0.1752 - accuracy: 0.9530\n",
      "Epoch 4/5\n",
      "188/188 [==============================] - 0s 2ms/step - loss: 0.1357 - accuracy: 0.9620\n",
      "Epoch 5/5\n",
      "188/188 [==============================] - 0s 2ms/step - loss: 0.1070 - accuracy: 0.9725\n"
     ]
    }
   ],
   "source": [
    "Client_1 = (x_train[0:6000], y_train[0:6000])\n",
    "Client_2 = (x_train[6000:12000], y_train[6000:12000])\n",
    "Client_3 = (x_train[12000:18000], y_train[12000:18000])\n",
    "Client_4 = (x_train[18000:24000], y_train[18000:24000])\n",
    "Client_5 = (x_train[24000:30000], y_train[24000:30000])\n",
    "Client_6 = (x_train[30000:36000], y_train[30000:36000])\n",
    "Client_7 = (x_train[36000:42000], y_train[36000:42000])\n",
    "Client_8 = (x_train[42000:48000], y_train[42000:48000])\n",
    "Client_9 = (x_train[48000:54000], y_train[48000:54000])\n",
    "Client_10 = (x_train[54000:], y_train[54000:])\n",
    "\n",
    "print(Client_1[0].shape)\n",
    "print(Client_2[0].shape)\n",
    "print(Client_3[0].shape)\n",
    "print(Client_4[0].shape)\n",
    "print(Client_5[0].shape)\n",
    "print(Client_6[0].shape)\n",
    "print(Client_7[0].shape)\n",
    "print(Client_8[0].shape)\n",
    "print(Client_9[0].shape)\n",
    "print(Client_10[0].shape)\n",
    "\n",
    "print(Client_1[1].shape)\n",
    "print(Client_2[1].shape)\n",
    "print(Client_3[1].shape)\n",
    "print(Client_4[1].shape)\n",
    "print(Client_5[1].shape)\n",
    "print(Client_6[1].shape)\n",
    "print(Client_7[1].shape)\n",
    "print(Client_8[1].shape)\n",
    "print(Client_9[1].shape)\n",
    "print(Client_10[1].shape)\n",
    "\n",
    "# Create and train client models\n",
    "client1_model = create_client_model()\n",
    "client2_model = create_client_model()\n",
    "client3_model = create_client_model()\n",
    "client4_model = create_client_model()\n",
    "client5_model = create_client_model()\n",
    "client6_model = create_client_model()\n",
    "client7_model = create_client_model()\n",
    "client8_model = create_client_model()\n",
    "client9_model = create_client_model()\n",
    "client10_model = create_client_model()\n",
    "\n",
    "client1_model = train_client_model(client1_model, Client_1[0], Client_1[1])\n",
    "client2_model = train_client_model(client2_model, Client_2[0], Client_1[1])\n",
    "client3_model = train_client_model(client3_model, Client_3[0], Client_1[1])\n",
    "client4_model = train_client_model(client4_model, Client_4[0], Client_1[1])\n",
    "client5_model = train_client_model(client5_model, Client_5[0], Client_5[1])\n",
    "client6_model = train_client_model(client6_model, Client_6[0], Client_6[1])\n",
    "client7_model = train_client_model(client7_model, Client_7[0], Client_7[1])\n",
    "client8_model = train_client_model(client8_model, Client_8[0], Client_8[1])\n",
    "client9_model = train_client_model(client9_model, Client_9[0], Client_9[1])\n",
    "client10_model = train_client_model(client10_model, Client_10[0], Client_10[1])"
   ]
  },
  {
   "cell_type": "code",
   "execution_count": 45,
   "id": "ffab30c1",
   "metadata": {},
   "outputs": [],
   "source": [
    "# Federated averaging\n",
    "def federated_average_weights(weights1, weights2, weights3, weights4, weights5,\n",
    "                              weights6, weights7, weights8, weights9, weights10):\n",
    "    new_weights = []\n",
    "    for w1, w2, w3, w4, w5, w6, w7, w8, w9, w10 in zip(weights1, weights2, weights3, weights4, \n",
    "                                                      weights5, weights6, weights7, weights8, \n",
    "                                                      weights9, weights10):\n",
    "        new_weights.append((w1 + w2 + w3 + w4 + w5 + w6 + w7 + w8 + w9 + w10) / 10)\n",
    "    return new_weights\n",
    "\n",
    "\n",
    "# Aggregate models\n",
    "aggregated_weights = federated_average_weights(client1_model.get_weights(), \n",
    "                                               client2_model.get_weights(), \n",
    "                                               client3_model.get_weights(),\n",
    "                                               client4_model.get_weights(),\n",
    "                                               client5_model.get_weights(),\n",
    "                                               client6_model.get_weights(),\n",
    "                                               client7_model.get_weights(),\n",
    "                                               client8_model.get_weights(),\n",
    "                                               client9_model.get_weights(),\n",
    "                                               client10_model.get_weights())\n",
    "\n",
    "# Create global model and set weights\n",
    "global_model = create_client_model()\n",
    "global_model.set_weights(aggregated_weights)"
   ]
  },
  {
   "cell_type": "code",
   "execution_count": 46,
   "id": "52a6ab36",
   "metadata": {},
   "outputs": [
    {
     "name": "stdout",
     "output_type": "stream",
     "text": [
      "313/313 - 0s - loss: 1.8226 - accuracy: 0.6294 - 491ms/epoch - 2ms/step\n",
      "Test accuracy: 0.6294000148773193\n",
      "313/313 [==============================] - 0s 937us/step\n",
      "(10000, 10)\n",
      "Accuracy test set:  0.6294\n",
      "Precision test set:  0.7850944145268745\n",
      "Recall test set:  0.6294\n",
      "F-score test set:  0.6091331701013668\n",
      "              precision    recall  f1-score   support\n",
      "\n",
      "           0       0.86      0.60      0.71       980\n",
      "           1       0.54      1.00      0.70      1135\n",
      "           2       0.92      0.51      0.66      1032\n",
      "           3       0.84      0.45      0.59      1010\n",
      "           4       0.94      0.75      0.83       982\n",
      "           5       0.32      0.95      0.48       892\n",
      "           6       0.97      0.44      0.61       958\n",
      "           7       0.67      0.93      0.78      1028\n",
      "           8       1.00      0.00      0.00       974\n",
      "           9       0.78      0.61      0.69      1009\n",
      "\n",
      "    accuracy                           0.63     10000\n",
      "   macro avg       0.78      0.63      0.60     10000\n",
      "weighted avg       0.79      0.63      0.61     10000\n",
      "\n"
     ]
    }
   ],
   "source": [
    "# Evaluate global model\n",
    "test_loss, test_acc = global_model.evaluate(x_test, y_test, verbose=2)\n",
    "print('Test accuracy:', test_acc)\n",
    "\n",
    "predictions = global_model.predict(x_test)\n",
    "print(predictions.shape)\n",
    "\n",
    "predictions = list(predictions.argmax(axis=1))\n",
    "\n",
    "print(\"Accuracy test set: \", accuracy_score(y_test, predictions))\n",
    "\n",
    "print(\"Precision test set: \", precision_score(y_test, predictions, average = 'weighted' )) \n",
    "print(\"Recall test set: \", recall_score(y_test, predictions, average = 'weighted' ))\n",
    "print(\"F-score test set: \", f1_score(y_test, predictions, average = 'weighted' ))\n",
    "\n",
    "print(classification_report(y_test, predictions))"
   ]
  },
  {
   "cell_type": "code",
   "execution_count": 47,
   "id": "a5a5b0ec",
   "metadata": {},
   "outputs": [
    {
     "name": "stdout",
     "output_type": "stream",
     "text": [
      "[0.8851000070571899, 0.28790000081062317, 0.7271999716758728, 0.6028000116348267, 0.6428999900817871]\n",
      "[0.907323157047967, 0.37310911314701634, 0.7834205071021751, 0.7986126719530607, 0.8044962589008876]\n",
      "[0.8851, 0.2879, 0.7272, 0.6028, 0.6429]\n",
      "[0.8851514824563385, 0.2500357846568731, 0.7308748558259915, 0.5536289939655649, 0.6203729491096158]\n"
     ]
    }
   ],
   "source": [
    "test_accuracy.append(0.6428999900817871)\n",
    "test_precision.append(0.8044962589008876)\n",
    "test_recall.append(0.6429)\n",
    "test_f1_score.append(0.6203729491096158)\n",
    "\n",
    "print(test_accuracy)\n",
    "print(test_precision)\n",
    "print(test_recall)\n",
    "print(test_f1_score)"
   ]
  },
  {
   "cell_type": "code",
   "execution_count": 48,
   "id": "340d05b6",
   "metadata": {},
   "outputs": [],
   "source": [
    "import pandas as pd"
   ]
  },
  {
   "cell_type": "code",
   "execution_count": 49,
   "id": "80cf3f62",
   "metadata": {},
   "outputs": [
    {
     "name": "stdout",
     "output_type": "stream",
     "text": [
      "[[0.8851000070571899, 0.28790000081062317, 0.7271999716758728, 0.6028000116348267, 0.6428999900817871], [0.907323157047967, 0.37310911314701634, 0.7834205071021751, 0.7986126719530607, 0.8044962589008876], [0.8851, 0.2879, 0.7272, 0.6028, 0.6429], [0.8851514824563385, 0.2500357846568731, 0.7308748558259915, 0.5536289939655649, 0.6203729491096158]]\n"
     ]
    },
    {
     "data": {
      "text/html": [
       "<div>\n",
       "<style scoped>\n",
       "    .dataframe tbody tr th:only-of-type {\n",
       "        vertical-align: middle;\n",
       "    }\n",
       "\n",
       "    .dataframe tbody tr th {\n",
       "        vertical-align: top;\n",
       "    }\n",
       "\n",
       "    .dataframe thead th {\n",
       "        text-align: right;\n",
       "    }\n",
       "</style>\n",
       "<table border=\"1\" class=\"dataframe\">\n",
       "  <thead>\n",
       "    <tr style=\"text-align: right;\">\n",
       "      <th></th>\n",
       "      <th>Accuracy</th>\n",
       "      <th>Precision</th>\n",
       "      <th>Recall</th>\n",
       "      <th>F1_Score</th>\n",
       "    </tr>\n",
       "  </thead>\n",
       "  <tbody>\n",
       "    <tr>\n",
       "      <th>2</th>\n",
       "      <td>0.8851</td>\n",
       "      <td>0.907323</td>\n",
       "      <td>0.8851</td>\n",
       "      <td>0.885151</td>\n",
       "    </tr>\n",
       "    <tr>\n",
       "      <th>4</th>\n",
       "      <td>0.2879</td>\n",
       "      <td>0.373109</td>\n",
       "      <td>0.2879</td>\n",
       "      <td>0.250036</td>\n",
       "    </tr>\n",
       "    <tr>\n",
       "      <th>6</th>\n",
       "      <td>0.7272</td>\n",
       "      <td>0.783421</td>\n",
       "      <td>0.7272</td>\n",
       "      <td>0.730875</td>\n",
       "    </tr>\n",
       "    <tr>\n",
       "      <th>8</th>\n",
       "      <td>0.6028</td>\n",
       "      <td>0.798613</td>\n",
       "      <td>0.6028</td>\n",
       "      <td>0.553629</td>\n",
       "    </tr>\n",
       "    <tr>\n",
       "      <th>10</th>\n",
       "      <td>0.6429</td>\n",
       "      <td>0.804496</td>\n",
       "      <td>0.6429</td>\n",
       "      <td>0.620373</td>\n",
       "    </tr>\n",
       "  </tbody>\n",
       "</table>\n",
       "</div>"
      ],
      "text/plain": [
       "    Accuracy  Precision  Recall  F1_Score\n",
       "2     0.8851   0.907323  0.8851  0.885151\n",
       "4     0.2879   0.373109  0.2879  0.250036\n",
       "6     0.7272   0.783421  0.7272  0.730875\n",
       "8     0.6028   0.798613  0.6028  0.553629\n",
       "10    0.6429   0.804496  0.6429  0.620373"
      ]
     },
     "execution_count": 49,
     "metadata": {},
     "output_type": "execute_result"
    }
   ],
   "source": [
    "ErrorMetrics = []\n",
    "ErrorMetrics.append(test_accuracy)\n",
    "ErrorMetrics.append(test_precision)\n",
    "ErrorMetrics.append(test_recall)\n",
    "ErrorMetrics.append(test_f1_score)\n",
    "\n",
    "print(ErrorMetrics)\n",
    "\n",
    "ErrorMetrics_pd = pd.DataFrame(ErrorMetrics)\n",
    "ErrorMetrics_pd.columns = [2,4,6,8,10]\n",
    "ErrorMetrics_pd = ErrorMetrics_pd.T\n",
    "ErrorMetrics_pd.columns = ['Accuracy','Precision','Recall','F1_Score']\n",
    "ErrorMetrics_pd"
   ]
  },
  {
   "cell_type": "code",
   "execution_count": 50,
   "id": "8c2bbc76",
   "metadata": {},
   "outputs": [
    {
     "data": {
      "text/plain": [
       "<Axes: >"
      ]
     },
     "execution_count": 50,
     "metadata": {},
     "output_type": "execute_result"
    },
    {
     "data": {
      "image/png": "[encoded data removed]",
      "text/plain": [
       "<Figure size 640x480 with 1 Axes>"
      ]
     },
     "metadata": {},
     "output_type": "display_data"
    }
   ],
   "source": [
    "ErrorMetrics_pd.plot.bar(width=0.7, alpha=0.7)"
   ]
  },
  {
   "cell_type": "code",
   "execution_count": 51,
   "id": "cab76d73",
   "metadata": {},
   "outputs": [],
   "source": [
    "Client_1 = (x_train[0:10000], y_train[0:10000])\n",
    "Client_2 = (x_train[10000:20000], y_train[10000:20000])\n",
    "Client_3 = (x_train[20000:30000], y_train[20000:30000])\n",
    "Client_4 = (x_train[30000:40000], y_train[30000:40000])\n",
    "Client_5 = (x_train[40000:50000], y_train[40000:50000])\n",
    "Client_6 = (x_train[50000:], y_train[50000:])"
   ]
  },
  {
   "cell_type": "code",
   "execution_count": 52,
   "id": "db948206",
   "metadata": {},
   "outputs": [
    {
     "data": {
      "text/plain": [
       "10000"
      ]
     },
     "execution_count": 52,
     "metadata": {},
     "output_type": "execute_result"
    }
   ],
   "source": [
    "Client_2[1].size"
   ]
  },
  {
   "cell_type": "code",
   "execution_count": 53,
   "id": "818d4612",
   "metadata": {},
   "outputs": [
    {
     "data": {
      "text/plain": [
       "array([3, 8, 7, ..., 1, 4, 2], dtype=uint8)"
      ]
     },
     "execution_count": 53,
     "metadata": {},
     "output_type": "execute_result"
    }
   ],
   "source": [
    "Client_2[1]"
   ]
  },
  {
   "cell_type": "code",
   "execution_count": 54,
   "id": "404b5b19",
   "metadata": {},
   "outputs": [],
   "source": [
    "\n",
    "Client_2[1][:2000] = 4"
   ]
  },
  {
   "cell_type": "code",
   "execution_count": 55,
   "id": "7dcbb563",
   "metadata": {},
   "outputs": [
    {
     "data": {
      "text/plain": [
       "array([4, 4, 4, ..., 1, 4, 2], dtype=uint8)"
      ]
     },
     "execution_count": 55,
     "metadata": {},
     "output_type": "execute_result"
    }
   ],
   "source": [
    "Client_2[1]"
   ]
  },
  {
   "cell_type": "code",
   "execution_count": 56,
   "id": "d3c7294c",
   "metadata": {},
   "outputs": [
    {
     "name": "stdout",
     "output_type": "stream",
     "text": [
      "(10000, 28, 28, 1)\n",
      "(10000, 28, 28, 1)\n",
      "(10000, 28, 28, 1)\n",
      "(10000, 28, 28, 1)\n",
      "(10000, 28, 28, 1)\n",
      "(10000, 28, 28, 1)\n",
      "(10000,)\n",
      "(10000,)\n",
      "(10000,)\n",
      "(10000,)\n",
      "(10000,)\n",
      "(10000,)\n"
     ]
    }
   ],
   "source": [
    "print(Client_1[0].shape)\n",
    "print(Client_2[0].shape)\n",
    "print(Client_3[0].shape)\n",
    "print(Client_4[0].shape)\n",
    "print(Client_5[0].shape)\n",
    "print(Client_6[0].shape)\n",
    "\n",
    "print(Client_1[1].shape)\n",
    "print(Client_2[1].shape)\n",
    "print(Client_3[1].shape)\n",
    "print(Client_4[1].shape)\n",
    "print(Client_5[1].shape)\n",
    "print(Client_6[1].shape)"
   ]
  },
  {
   "cell_type": "code",
   "execution_count": 57,
   "id": "c9042f3f",
   "metadata": {},
   "outputs": [
    {
     "name": "stdout",
     "output_type": "stream",
     "text": [
      "Epoch 1/5\n",
      "313/313 [==============================] - 1s 1ms/step - loss: 0.5099 - accuracy: 0.8617\n",
      "Epoch 2/5\n",
      "313/313 [==============================] - 0s 2ms/step - loss: 0.2442 - accuracy: 0.9308\n",
      "Epoch 3/5\n",
      "313/313 [==============================] - 1s 2ms/step - loss: 0.1767 - accuracy: 0.9474\n",
      "Epoch 4/5\n",
      "313/313 [==============================] - 0s 2ms/step - loss: 0.1332 - accuracy: 0.9622\n",
      "Epoch 5/5\n",
      "313/313 [==============================] - 0s 2ms/step - loss: 0.1029 - accuracy: 0.9720\n",
      "Epoch 1/5\n",
      "313/313 [==============================] - 1s 1ms/step - loss: 2.3199 - accuracy: 0.0988\n",
      "Epoch 2/5\n",
      "313/313 [==============================] - 0s 1ms/step - loss: 2.2947 - accuracy: 0.1264\n",
      "Epoch 3/5\n",
      "313/313 [==============================] - 0s 1ms/step - loss: 2.2816 - accuracy: 0.1339\n",
      "Epoch 4/5\n",
      "313/313 [==============================] - 0s 1ms/step - loss: 2.2639 - accuracy: 0.1529\n",
      "Epoch 5/5\n",
      "313/313 [==============================] - 0s 2ms/step - loss: 2.2384 - accuracy: 0.1660\n",
      "Epoch 1/5\n",
      "313/313 [==============================] - 1s 2ms/step - loss: 2.3220 - accuracy: 0.1033\n",
      "Epoch 2/5\n",
      "313/313 [==============================] - 1s 2ms/step - loss: 2.2953 - accuracy: 0.1201\n",
      "Epoch 3/5\n",
      "313/313 [==============================] - 1s 2ms/step - loss: 2.2824 - accuracy: 0.1399\n",
      "Epoch 4/5\n",
      "313/313 [==============================] - 1s 2ms/step - loss: 2.2638 - accuracy: 0.1526\n",
      "Epoch 5/5\n",
      "313/313 [==============================] - 0s 2ms/step - loss: 2.2386 - accuracy: 0.1641\n",
      "Epoch 1/5\n",
      "313/313 [==============================] - 1s 1ms/step - loss: 2.3192 - accuracy: 0.0994\n",
      "Epoch 2/5\n",
      "313/313 [==============================] - 0s 1ms/step - loss: 2.2944 - accuracy: 0.1237\n",
      "Epoch 3/5\n",
      "313/313 [==============================] - 0s 1ms/step - loss: 2.2796 - accuracy: 0.1357\n",
      "Epoch 4/5\n",
      "313/313 [==============================] - 0s 2ms/step - loss: 2.2603 - accuracy: 0.1491\n",
      "Epoch 5/5\n",
      "313/313 [==============================] - 0s 2ms/step - loss: 2.2324 - accuracy: 0.1731\n",
      "Epoch 1/5\n",
      "313/313 [==============================] - 1s 1ms/step - loss: 0.5562 - accuracy: 0.8442\n",
      "Epoch 2/5\n",
      "313/313 [==============================] - 0s 2ms/step - loss: 0.2591 - accuracy: 0.9257\n",
      "Epoch 3/5\n",
      "313/313 [==============================] - 0s 2ms/step - loss: 0.1952 - accuracy: 0.9415\n",
      "Epoch 4/5\n",
      "313/313 [==============================] - 0s 1ms/step - loss: 0.1519 - accuracy: 0.9571\n",
      "Epoch 5/5\n",
      "313/313 [==============================] - 0s 1ms/step - loss: 0.1194 - accuracy: 0.9679\n",
      "Epoch 1/5\n",
      "313/313 [==============================] - 1s 2ms/step - loss: 0.4788 - accuracy: 0.8715\n",
      "Epoch 2/5\n",
      "313/313 [==============================] - 0s 2ms/step - loss: 0.2334 - accuracy: 0.9338\n",
      "Epoch 3/5\n",
      "313/313 [==============================] - 1s 2ms/step - loss: 0.1673 - accuracy: 0.9528\n",
      "Epoch 4/5\n",
      "313/313 [==============================] - 0s 2ms/step - loss: 0.1277 - accuracy: 0.9645\n",
      "Epoch 5/5\n",
      "313/313 [==============================] - 0s 2ms/step - loss: 0.1008 - accuracy: 0.9726\n"
     ]
    }
   ],
   "source": [
    "# Create and train client models\n",
    "client1_model = create_client_model()\n",
    "client2_model = create_client_model()\n",
    "client3_model = create_client_model()\n",
    "client4_model = create_client_model()\n",
    "client5_model = create_client_model()\n",
    "client6_model = create_client_model()\n",
    "\n",
    "client1_model = train_client_model(client1_model, Client_1[0], Client_1[1])\n",
    "client2_model = train_client_model(client2_model, Client_2[0], Client_1[1])\n",
    "client3_model = train_client_model(client3_model, Client_3[0], Client_1[1])\n",
    "client4_model = train_client_model(client4_model, Client_4[0], Client_1[1])\n",
    "client5_model = train_client_model(client5_model, Client_5[0], Client_5[1])\n",
    "client6_model = train_client_model(client6_model, Client_6[0], Client_6[1])"
   ]
  },
  {
   "cell_type": "code",
   "execution_count": 58,
   "id": "91a387e8",
   "metadata": {},
   "outputs": [],
   "source": [
    "# Federated averaging\n",
    "def federated_average_weights(weights1, weights2, weights3, weights4, weights5, weights6):\n",
    "    new_weights = []\n",
    "    for w1, w2, w3, w4, w5, w6 in zip(weights1, weights2, weights3, weights4, weights5, weights6):\n",
    "        new_weights.append((w1 + w2 + w3 + w4 + w5 + w6) / 6)\n",
    "    return new_weights\n",
    "\n",
    "\n",
    "# Aggregate models\n",
    "aggregated_weights = federated_average_weights(client1_model.get_weights(), \n",
    "                                               client2_model.get_weights(), \n",
    "                                               client3_model.get_weights(),\n",
    "                                               client4_model.get_weights(),\n",
    "                                               client5_model.get_weights(),\n",
    "                                               client6_model.get_weights())\n",
    "\n",
    "# Create global model and set weights\n",
    "global_model = create_client_model()\n",
    "global_model.set_weights(aggregated_weights)"
   ]
  },
  {
   "cell_type": "code",
   "execution_count": 59,
   "id": "ce957924",
   "metadata": {},
   "outputs": [
    {
     "name": "stdout",
     "output_type": "stream",
     "text": [
      "313/313 - 0s - loss: 1.9891 - accuracy: 0.7361 - 492ms/epoch - 2ms/step\n",
      "Test accuracy: 0.7361000180244446\n",
      "313/313 [==============================] - 0s 908us/step\n",
      "(10000, 10)\n",
      "Accuracy test set:  0.7361\n",
      "Precision test set:  0.7414356425281612\n",
      "Recall test set:  0.7361\n",
      "F-score test set:  0.7093201396335478\n",
      "              precision    recall  f1-score   support\n",
      "\n",
      "           0       0.94      0.66      0.78       980\n",
      "           1       0.88      0.99      0.93      1135\n",
      "           2       0.70      0.74      0.72      1032\n",
      "           3       0.66      0.76      0.71      1010\n",
      "           4       0.62      0.96      0.76       982\n",
      "           5       0.88      0.64      0.74       892\n",
      "           6       0.93      0.87      0.90       958\n",
      "           7       0.70      0.88      0.78      1028\n",
      "           8       0.57      0.77      0.65       974\n",
      "           9       0.54      0.07      0.12      1009\n",
      "\n",
      "    accuracy                           0.74     10000\n",
      "   macro avg       0.74      0.73      0.71     10000\n",
      "weighted avg       0.74      0.74      0.71     10000\n",
      "\n"
     ]
    }
   ],
   "source": [
    "# Evaluate global model\n",
    "test_loss, test_acc = global_model.evaluate(x_test, y_test, verbose=2)\n",
    "print('Test accuracy:', test_acc)\n",
    "\n",
    "predictions = global_model.predict(x_test)\n",
    "print(predictions.shape)\n",
    "\n",
    "predictions = list(predictions.argmax(axis=1))\n",
    "\n",
    "print(\"Accuracy test set: \", accuracy_score(y_test, predictions))\n",
    "\n",
    "print(\"Precision test set: \", precision_score(y_test, predictions, average = 'weighted' )) \n",
    "print(\"Recall test set: \", recall_score(y_test, predictions, average = 'weighted' ))\n",
    "print(\"F-score test set: \", f1_score(y_test, predictions, average = 'weighted' ))\n",
    "\n",
    "print(classification_report(y_test, predictions))"
   ]
  },
  {
   "cell_type": "code",
   "execution_count": 60,
   "id": "eb36e112",
   "metadata": {},
   "outputs": [],
   "source": [
    "test_accuracy_dishonest  = []\n",
    "test_precision_dishonest = []\n",
    "test_recall_dishonest    = []\n",
    "test_f1_score_dishonest  = []"
   ]
  },
  {
   "cell_type": "code",
   "execution_count": 61,
   "id": "fbd21944",
   "metadata": {},
   "outputs": [
    {
     "name": "stdout",
     "output_type": "stream",
     "text": [
      "[0.7271999716758728, 0.7197999954223633]\n",
      "[0.7834205071021751, 0.7649681801937827]\n",
      "[0.7272, 0.7198]\n",
      "[0.7308748558259915, 0.7079021148713025]\n"
     ]
    }
   ],
   "source": [
    "test_accuracy_dishonest.append(test_accuracy[2])\n",
    "test_precision_dishonest.append(test_precision[2])\n",
    "test_recall_dishonest.append(test_recall[2])\n",
    "test_f1_score_dishonest.append(test_f1_score[2])\n",
    "\n",
    "test_accuracy_dishonest.append(0.7197999954223633)\n",
    "test_precision_dishonest.append(0.7649681801937827)\n",
    "test_recall_dishonest.append(0.7198)\n",
    "test_f1_score_dishonest.append(0.7079021148713025)\n",
    "\n",
    "print(test_accuracy_dishonest)\n",
    "print(test_precision_dishonest)\n",
    "print(test_recall_dishonest)\n",
    "print(test_f1_score_dishonest)"
   ]
  },
  {
   "cell_type": "code",
   "execution_count": 62,
   "id": "4150944b",
   "metadata": {},
   "outputs": [
    {
     "name": "stdout",
     "output_type": "stream",
     "text": [
      "[[0.7271999716758728, 0.7197999954223633], [0.7834205071021751, 0.7649681801937827], [0.7272, 0.7198], [0.7308748558259915, 0.7079021148713025]]\n"
     ]
    },
    {
     "data": {
      "text/html": [
       "<div>\n",
       "<style scoped>\n",
       "    .dataframe tbody tr th:only-of-type {\n",
       "        vertical-align: middle;\n",
       "    }\n",
       "\n",
       "    .dataframe tbody tr th {\n",
       "        vertical-align: top;\n",
       "    }\n",
       "\n",
       "    .dataframe thead th {\n",
       "        text-align: right;\n",
       "    }\n",
       "</style>\n",
       "<table border=\"1\" class=\"dataframe\">\n",
       "  <thead>\n",
       "    <tr style=\"text-align: right;\">\n",
       "      <th></th>\n",
       "      <th>Accuracy</th>\n",
       "      <th>Precision</th>\n",
       "      <th>Recall</th>\n",
       "      <th>F1_Score</th>\n",
       "    </tr>\n",
       "  </thead>\n",
       "  <tbody>\n",
       "    <tr>\n",
       "      <th>All are honest</th>\n",
       "      <td>0.7272</td>\n",
       "      <td>0.783421</td>\n",
       "      <td>0.7272</td>\n",
       "      <td>0.730875</td>\n",
       "    </tr>\n",
       "    <tr>\n",
       "      <th>#2 is dishonest</th>\n",
       "      <td>0.7198</td>\n",
       "      <td>0.764968</td>\n",
       "      <td>0.7198</td>\n",
       "      <td>0.707902</td>\n",
       "    </tr>\n",
       "  </tbody>\n",
       "</table>\n",
       "</div>"
      ],
      "text/plain": [
       "                 Accuracy  Precision  Recall  F1_Score\n",
       "All are honest     0.7272   0.783421  0.7272  0.730875\n",
       "#2 is dishonest    0.7198   0.764968  0.7198  0.707902"
      ]
     },
     "execution_count": 62,
     "metadata": {},
     "output_type": "execute_result"
    }
   ],
   "source": [
    "### Plot the model's performance for the 6 clients, one of them (number=2) is dishonest\n",
    "\n",
    "ErrorMetrics = []\n",
    "ErrorMetrics.append(test_accuracy_dishonest)\n",
    "ErrorMetrics.append(test_precision_dishonest)\n",
    "ErrorMetrics.append(test_recall_dishonest)\n",
    "ErrorMetrics.append(test_f1_score_dishonest)\n",
    "\n",
    "print(ErrorMetrics)\n",
    "\n",
    "ErrorMetrics_pd = pd.DataFrame(ErrorMetrics)\n",
    "ErrorMetrics_pd.columns = ['All are honest', '#2 is dishonest']\n",
    "ErrorMetrics_pd = ErrorMetrics_pd.T\n",
    "ErrorMetrics_pd.columns = ['Accuracy','Precision','Recall','F1_Score']\n",
    "ErrorMetrics_pd"
   ]
  },
  {
   "cell_type": "code",
   "execution_count": 63,
   "id": "4c4ce218",
   "metadata": {},
   "outputs": [
    {
     "data": {
      "text/plain": [
       "<Axes: >"
      ]
     },
     "execution_count": 63,
     "metadata": {},
     "output_type": "execute_result"
    },
    {
     "data": {
      "image/png": "[encoded data removed]",
      "text/plain": [
       "<Figure size 640x480 with 1 Axes>"
      ]
     },
     "metadata": {},
     "output_type": "display_data"
    }
   ],
   "source": [
    "ErrorMetrics_pd.plot.bar(width=0.7, alpha=0.7)"
   ]
  },
  {
   "cell_type": "code",
   "execution_count": null,
   "id": "18850c1a",
   "metadata": {},
   "outputs": [],
   "source": []
  }
 ],
 "metadata": {
  "kernelspec": {
   "display_name": "Python 3 (ipykernel)",
   "language": "python",
   "name": "python3"
  },
  "language_info": {
   "codemirror_mode": {
    "name": "ipython",
    "version": 3
   },
   "file_extension": ".py",
   "mimetype": "text/x-python",
   "name": "python",
   "nbconvert_exporter": "python",
   "pygments_lexer": "ipython3",
   "version": "3.11.5"
  }
 },
 "nbformat": 4,
 "nbformat_minor": 5
}
