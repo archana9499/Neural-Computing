{
 "cells": [
  {
   "cell_type": "markdown",
   "metadata": {
    "id": "VB9pbERmm8IZ"
   },
   "source": [
    "\n",
    "# Simple AutoEncoders with Image Data\n",
    "\n",
    "Here is a simple autoencoder with just the dense layers."
   ]
  },
  {
   "cell_type": "markdown",
   "metadata": {
    "id": "LlxN-eb5m8Ia"
   },
   "source": [
    "Load the data and import the libraries."
   ]
  },
  {
   "cell_type": "code",
   "execution_count": 1,
   "metadata": {
    "id": "MGqNWU6Ym8Ia"
   },
   "outputs": [
    {
     "name": "stdout",
     "output_type": "stream",
     "text": [
      "WARNING:tensorflow:From C:\\ProgramData\\anaconda3\\lib\\site-packages\\keras\\src\\losses.py:2976: The name tf.losses.sparse_softmax_cross_entropy is deprecated. Please use tf.compat.v1.losses.sparse_softmax_cross_entropy instead.\n",
      "\n"
     ]
    }
   ],
   "source": [
    "#\n",
    "# Import relevant Libraries\n",
    "#\n",
    "import pandas as pd\n",
    "import numpy as np\n",
    "import matplotlib.pyplot as plt\n",
    "import tensorflow as tf\n",
    "from tensorflow import keras"
   ]
  },
  {
   "cell_type": "code",
   "execution_count": 2,
   "metadata": {},
   "outputs": [],
   "source": [
    "from keras.datasets import mnist"
   ]
  },
  {
   "cell_type": "code",
   "execution_count": 3,
   "metadata": {},
   "outputs": [],
   "source": [
    "from keras.layers import Input, Dense\n",
    "from keras.models import Model"
   ]
  },
  {
   "cell_type": "code",
   "execution_count": 4,
   "metadata": {
    "id": "db4OX9Bdm8Ib"
   },
   "outputs": [],
   "source": [
    "\n",
    "# Load MNIST data and store it in variables x_train, x_test. Note -  we do not need labels as it's autoencoder.\n",
    "(x_train,_),(x_test,_) = mnist.load_data()"
   ]
  },
  {
   "cell_type": "code",
   "execution_count": 5,
   "metadata": {
    "colab": {
     "base_uri": "https://localhost:8080/",
     "height": 129
    },
    "id": "Y9VG7JbKm8Ic",
    "outputId": "d416dcff-0379-429e-ccaa-4817b49adfe2"
   },
   "outputs": [
    {
     "data": {
      "image/png": "[encoded data removed]",
      "text/plain": [
       "<Figure size 2000x400 with 10 Axes>"
      ]
     },
     "metadata": {},
     "output_type": "display_data"
    }
   ],
   "source": [
    "# Plot a few data points\n",
    "%matplotlib inline\n",
    "\n",
    "n = 10  # Number of records that will display\n",
    "plt.figure(figsize=(20, 4))\n",
    "for i in range(n):\n",
    "    # display original\n",
    "    ax = plt.subplot(2, n, i + 1)\n",
    "    plt.imshow(x_test[i].reshape(28, 28))\n",
    "    plt.gray()\n",
    "    ax.get_xaxis().set_visible(False)\n",
    "    ax.get_yaxis().set_visible(False)\n",
    "\n",
    "plt.show()"
   ]
  },
  {
   "cell_type": "code",
   "execution_count": 6,
   "metadata": {
    "id": "l7J4pLFUm8Ic"
   },
   "outputs": [],
   "source": [
    "# Normalize train data - Divide by 255\n",
    "# Normalize test data - Divide by 255\n",
    "x_train = x_train/255\n",
    "x_test  = x_test/255"
   ]
  },
  {
   "cell_type": "markdown",
   "metadata": {
    "id": "iN3Dtyymm8Ic"
   },
   "source": [
    "## Basic AutoEncoder\n",
    "\n",
    "Build a basic symmetric encoder-decoder network that recreates the image.  This network could be used in dimensionaliry reduction or feature learning. "
   ]
  },
  {
   "cell_type": "code",
   "execution_count": 10,
   "metadata": {},
   "outputs": [],
   "source": [
    "from keras.models import Sequential\n",
    "from keras.layers import Dense, Activation, Flatten"
   ]
  },
  {
   "cell_type": "code",
   "execution_count": 11,
   "metadata": {
    "id": "sZ0Haczem8Id"
   },
   "outputs": [],
   "source": [
    "encoder = Sequential()\n",
    "encoder.add(Flatten(input_shape=[28,28]))\n",
    "\n",
    "#\n",
    "# Add as many hidden layers in the encoder network of your choise\n",
    "#\n",
    "#\n",
    "encoder.add(Dense(500, activation='relu'))\n",
    "encoder.add(Dense(300, activation='relu'))\n",
    "encoder.add(Dense(150, activation='relu'))\n",
    "encoder.add(Dense(50, activation='relu'))\n",
    "encoder.add(Dense(25, activation='relu'))\n",
    "\n",
    "# The last TWO layers of the encoder and decoder must be matched (see the following decoder cell.\n",
    "#"
   ]
  },
  {
   "cell_type": "code",
   "execution_count": 12,
   "metadata": {},
   "outputs": [
    {
     "name": "stdout",
     "output_type": "stream",
     "text": [
      "Model: \"sequential_1\"\n",
      "_________________________________________________________________\n",
      " Layer (type)                Output Shape              Param #   \n",
      "=================================================================\n",
      " flatten (Flatten)           (None, 784)               0         \n",
      "                                                                 \n",
      " dense (Dense)               (None, 500)               392500    \n",
      "                                                                 \n",
      " dense_1 (Dense)             (None, 300)               150300    \n",
      "                                                                 \n",
      " dense_2 (Dense)             (None, 150)               45150     \n",
      "                                                                 \n",
      " dense_3 (Dense)             (None, 50)                7550      \n",
      "                                                                 \n",
      " dense_4 (Dense)             (None, 25)                1275      \n",
      "                                                                 \n",
      "=================================================================\n",
      "Total params: 596775 (2.28 MB)\n",
      "Trainable params: 596775 (2.28 MB)\n",
      "Non-trainable params: 0 (0.00 Byte)\n",
      "_________________________________________________________________\n"
     ]
    }
   ],
   "source": [
    "# print the encoder model\n",
    "encoder.summary()"
   ]
  },
  {
   "cell_type": "code",
   "execution_count": 15,
   "metadata": {},
   "outputs": [],
   "source": [
    "from keras.layers import Reshape"
   ]
  },
  {
   "cell_type": "code",
   "execution_count": 16,
   "metadata": {
    "id": "bWkuLDpjm8Id"
   },
   "outputs": [],
   "source": [
    "decoder = Sequential()\n",
    "decoder.add(Dense(50,input_shape=[25],activation='relu'))\n",
    "\n",
    "#\n",
    "# Add as many layers in the decoder as you want. Reember - Encoder and decoder need to be symmetric.\n",
    "#\n",
    "decoder.add(Dense(150, activation='relu'))\n",
    "decoder.add(Dense(300, activation='relu'))\n",
    "decoder.add(Dense(500, activation='relu'))\n",
    "\n",
    "decoder.add(Dense(28 * 28, activation=\"sigmoid\"))\n",
    "decoder.add(Reshape([28, 28]))"
   ]
  },
  {
   "cell_type": "code",
   "execution_count": 17,
   "metadata": {},
   "outputs": [
    {
     "name": "stdout",
     "output_type": "stream",
     "text": [
      "Model: \"sequential_4\"\n",
      "_________________________________________________________________\n",
      " Layer (type)                Output Shape              Param #   \n",
      "=================================================================\n",
      " dense_11 (Dense)            (None, 50)                1300      \n",
      "                                                                 \n",
      " dense_12 (Dense)            (None, 150)               7650      \n",
      "                                                                 \n",
      " dense_13 (Dense)            (None, 300)               45300     \n",
      "                                                                 \n",
      " dense_14 (Dense)            (None, 500)               150500    \n",
      "                                                                 \n",
      " dense_15 (Dense)            (None, 784)               392784    \n",
      "                                                                 \n",
      " reshape (Reshape)           (None, 28, 28)            0         \n",
      "                                                                 \n",
      "=================================================================\n",
      "Total params: 597534 (2.28 MB)\n",
      "Trainable params: 597534 (2.28 MB)\n",
      "Non-trainable params: 0 (0.00 Byte)\n",
      "_________________________________________________________________\n"
     ]
    }
   ],
   "source": [
    "# print the decoder model\n",
    "decoder.summary()"
   ]
  },
  {
   "cell_type": "code",
   "execution_count": 18,
   "metadata": {
    "id": "Iic4UbbXm8Id"
   },
   "outputs": [],
   "source": [
    "autoencoder = Sequential([encoder, decoder]) # Combine encoder and decoder together.\n"
   ]
  },
  {
   "cell_type": "code",
   "execution_count": 19,
   "metadata": {},
   "outputs": [
    {
     "name": "stdout",
     "output_type": "stream",
     "text": [
      "Model: \"sequential_5\"\n",
      "_________________________________________________________________\n",
      " Layer (type)                Output Shape              Param #   \n",
      "=================================================================\n",
      " sequential_1 (Sequential)   (None, 25)                596775    \n",
      "                                                                 \n",
      " sequential_4 (Sequential)   (None, 28, 28)            597534    \n",
      "                                                                 \n",
      "=================================================================\n",
      "Total params: 1194309 (4.56 MB)\n",
      "Trainable params: 1194309 (4.56 MB)\n",
      "Non-trainable params: 0 (0.00 Byte)\n",
      "_________________________________________________________________\n"
     ]
    }
   ],
   "source": [
    "# print the autoencoder model\n",
    "autoencoder.summary()"
   ]
  },
  {
   "cell_type": "code",
   "execution_count": 32,
   "metadata": {
    "id": "Vps8w9u-m8Id"
   },
   "outputs": [],
   "source": [
    "# Compile the autoencoder. Use binary_crossenropy as loss and metrics as accuracy.\n",
    "autoencoder.compile(loss='binary_crossentropy',\n",
    "              optimizer='rmsprop',\n",
    "              metrics=['accuracy'])"
   ]
  },
  {
   "cell_type": "code",
   "execution_count": 24,
   "metadata": {},
   "outputs": [],
   "source": [
    "#from tensorflow.keras.callbacks import EarlyStopping"
   ]
  },
  {
   "cell_type": "code",
   "execution_count": 25,
   "metadata": {},
   "outputs": [],
   "source": [
    "#early_stop = EarlyStopping(monitor='val_loss',patience=3)"
   ]
  },
  {
   "cell_type": "code",
   "execution_count": 34,
   "metadata": {},
   "outputs": [
    {
     "name": "stdout",
     "output_type": "stream",
     "text": [
      "Epoch 1/15\n",
      "WARNING:tensorflow:From C:\\ProgramData\\anaconda3\\lib\\site-packages\\keras\\src\\utils\\tf_utils.py:492: The name tf.ragged.RaggedTensorValue is deprecated. Please use tf.compat.v1.ragged.RaggedTensorValue instead.\n",
      "\n",
      "WARNING:tensorflow:From C:\\ProgramData\\anaconda3\\lib\\site-packages\\keras\\src\\engine\\base_layer_utils.py:384: The name tf.executing_eagerly_outside_functions is deprecated. Please use tf.compat.v1.executing_eagerly_outside_functions instead.\n",
      "\n",
      "1875/1875 [==============================] - 17s 6ms/step - loss: 0.2178 - accuracy: 0.1254 - val_loss: 0.1703 - val_accuracy: 0.1694\n",
      "Epoch 2/15\n",
      "1875/1875 [==============================] - 12s 7ms/step - loss: 0.1576 - accuracy: 0.2002 - val_loss: 0.1471 - val_accuracy: 0.2122\n",
      "Epoch 3/15\n",
      "1875/1875 [==============================] - 12s 6ms/step - loss: 0.1438 - accuracy: 0.2210 - val_loss: 0.1388 - val_accuracy: 0.2246\n",
      "Epoch 4/15\n",
      "1875/1875 [==============================] - 12s 6ms/step - loss: 0.1377 - accuracy: 0.2303 - val_loss: 0.1342 - val_accuracy: 0.2283\n",
      "Epoch 5/15\n",
      "1875/1875 [==============================] - 13s 7ms/step - loss: 0.1339 - accuracy: 0.2355 - val_loss: 0.1340 - val_accuracy: 0.2319\n",
      "Epoch 6/15\n",
      "1875/1875 [==============================] - 12s 7ms/step - loss: 0.1306 - accuracy: 0.2399 - val_loss: 0.1274 - val_accuracy: 0.2442\n",
      "Epoch 7/15\n",
      "1875/1875 [==============================] - 13s 7ms/step - loss: 0.1261 - accuracy: 0.2452 - val_loss: 0.1243 - val_accuracy: 0.2432\n",
      "Epoch 8/15\n",
      "1875/1875 [==============================] - 12s 7ms/step - loss: 0.1221 - accuracy: 0.2499 - val_loss: 0.1195 - val_accuracy: 0.2491\n",
      "Epoch 9/15\n",
      "1875/1875 [==============================] - 12s 6ms/step - loss: 0.1185 - accuracy: 0.2549 - val_loss: 0.1171 - val_accuracy: 0.2560\n",
      "Epoch 10/15\n",
      "1875/1875 [==============================] - 12s 7ms/step - loss: 0.1154 - accuracy: 0.2587 - val_loss: 0.1172 - val_accuracy: 0.2457\n",
      "Epoch 11/15\n",
      "1875/1875 [==============================] - 12s 7ms/step - loss: 0.1129 - accuracy: 0.2627 - val_loss: 0.1121 - val_accuracy: 0.2561\n",
      "Epoch 12/15\n",
      "1875/1875 [==============================] - 12s 7ms/step - loss: 0.1106 - accuracy: 0.2659 - val_loss: 0.1098 - val_accuracy: 0.2657\n",
      "Epoch 13/15\n",
      "1875/1875 [==============================] - 12s 7ms/step - loss: 0.1086 - accuracy: 0.2695 - val_loss: 0.1074 - val_accuracy: 0.2698\n",
      "Epoch 14/15\n",
      "1875/1875 [==============================] - 12s 7ms/step - loss: 0.1070 - accuracy: 0.2718 - val_loss: 0.1076 - val_accuracy: 0.2598\n",
      "Epoch 15/15\n",
      "1875/1875 [==============================] - 13s 7ms/step - loss: 0.1055 - accuracy: 0.2748 - val_loss: 0.1062 - val_accuracy: 0.2702\n"
     ]
    }
   ],
   "source": [
    "# Fit the autoencoder. Note - Input and output are same. x_train is your train data, x_test is your validation data.\n",
    "history = autoencoder.fit( x_train, x_train,\n",
    "                # the number of times of training using the whole dataset\n",
    "                    epochs=15,\n",
    "                    \n",
    "                    validation_data =(x_test,x_test),\n",
    "                    \n",
    "                # Boolean (whether to shuffle the training data before each epoch)\n",
    "                    shuffle = True,\n",
    "                \n",
    "                # 1 = progress bar printing\n",
    "                    verbose = 1)\n",
    "                    \n",
    "                # early stopping    \n",
    "                    #callbacks=[early_stop] )\n"
   ]
  },
  {
   "cell_type": "code",
   "execution_count": 36,
   "metadata": {},
   "outputs": [
    {
     "data": {
      "text/plain": [
       "array([[0.        , 0.        , 0.        , 0.        , 0.        ,\n",
       "        0.        , 0.        , 0.        , 0.        , 0.        ,\n",
       "        0.        , 0.        , 0.        , 0.        , 0.        ,\n",
       "        0.        , 0.        , 0.        , 0.        , 0.        ,\n",
       "        0.        , 0.        , 0.        , 0.        , 0.        ,\n",
       "        0.        , 0.        , 0.        ],\n",
       "       [0.        , 0.        , 0.        , 0.        , 0.        ,\n",
       "        0.        , 0.        , 0.        , 0.        , 0.        ,\n",
       "        0.        , 0.        , 0.        , 0.        , 0.        ,\n",
       "        0.        , 0.        , 0.        , 0.        , 0.        ,\n",
       "        0.        , 0.        , 0.        , 0.        , 0.        ,\n",
       "        0.        , 0.        , 0.        ],\n",
       "       [0.        , 0.        , 0.        , 0.        , 0.        ,\n",
       "        0.        , 0.        , 0.        , 0.        , 0.        ,\n",
       "        0.        , 0.        , 0.        , 0.        , 0.        ,\n",
       "        0.        , 0.        , 0.        , 0.        , 0.        ,\n",
       "        0.        , 0.        , 0.        , 0.        , 0.        ,\n",
       "        0.        , 0.        , 0.        ],\n",
       "       [0.        , 0.        , 0.        , 0.        , 0.        ,\n",
       "        0.        , 0.        , 0.        , 0.        , 0.        ,\n",
       "        0.        , 0.        , 0.        , 0.        , 0.        ,\n",
       "        0.        , 0.        , 0.        , 0.        , 0.        ,\n",
       "        0.        , 0.        , 0.        , 0.        , 0.        ,\n",
       "        0.        , 0.        , 0.        ],\n",
       "       [0.        , 0.        , 0.        , 0.        , 0.        ,\n",
       "        0.        , 0.        , 0.        , 0.        , 0.        ,\n",
       "        0.        , 0.        , 0.        , 0.        , 0.        ,\n",
       "        0.        , 0.        , 0.        , 0.        , 0.        ,\n",
       "        0.        , 0.        , 0.        , 0.        , 0.        ,\n",
       "        0.        , 0.        , 0.        ],\n",
       "       [0.        , 0.        , 0.        , 0.        , 0.        ,\n",
       "        0.        , 0.        , 0.        , 0.        , 0.        ,\n",
       "        0.        , 0.        , 0.        , 0.        , 0.        ,\n",
       "        0.        , 0.        , 0.        , 0.        , 0.        ,\n",
       "        0.        , 0.        , 0.        , 0.        , 0.        ,\n",
       "        0.        , 0.        , 0.        ],\n",
       "       [0.        , 0.        , 0.        , 0.        , 0.        ,\n",
       "        0.        , 0.        , 0.        , 0.        , 0.        ,\n",
       "        0.        , 0.        , 0.        , 0.        , 0.        ,\n",
       "        0.        , 0.        , 0.        , 0.        , 0.        ,\n",
       "        0.        , 0.        , 0.        , 0.        , 0.        ,\n",
       "        0.        , 0.        , 0.        ],\n",
       "       [0.        , 0.        , 0.        , 0.        , 0.        ,\n",
       "        0.        , 0.32941176, 0.7254902 , 0.62352941, 0.59215686,\n",
       "        0.23529412, 0.14117647, 0.        , 0.        , 0.        ,\n",
       "        0.        , 0.        , 0.        , 0.        , 0.        ,\n",
       "        0.        , 0.        , 0.        , 0.        , 0.        ,\n",
       "        0.        , 0.        , 0.        ],\n",
       "       [0.        , 0.        , 0.        , 0.        , 0.        ,\n",
       "        0.        , 0.87058824, 0.99607843, 0.99607843, 0.99607843,\n",
       "        0.99607843, 0.94509804, 0.77647059, 0.77647059, 0.77647059,\n",
       "        0.77647059, 0.77647059, 0.77647059, 0.77647059, 0.77647059,\n",
       "        0.66666667, 0.20392157, 0.        , 0.        , 0.        ,\n",
       "        0.        , 0.        , 0.        ],\n",
       "       [0.        , 0.        , 0.        , 0.        , 0.        ,\n",
       "        0.        , 0.2627451 , 0.44705882, 0.28235294, 0.44705882,\n",
       "        0.63921569, 0.89019608, 0.99607843, 0.88235294, 0.99607843,\n",
       "        0.99607843, 0.99607843, 0.98039216, 0.89803922, 0.99607843,\n",
       "        0.99607843, 0.54901961, 0.        , 0.        , 0.        ,\n",
       "        0.        , 0.        , 0.        ],\n",
       "       [0.        , 0.        , 0.        , 0.        , 0.        ,\n",
       "        0.        , 0.        , 0.        , 0.        , 0.        ,\n",
       "        0.        , 0.06666667, 0.25882353, 0.05490196, 0.2627451 ,\n",
       "        0.2627451 , 0.2627451 , 0.23137255, 0.08235294, 0.9254902 ,\n",
       "        0.99607843, 0.41568627, 0.        , 0.        , 0.        ,\n",
       "        0.        , 0.        , 0.        ],\n",
       "       [0.        , 0.        , 0.        , 0.        , 0.        ,\n",
       "        0.        , 0.        , 0.        , 0.        , 0.        ,\n",
       "        0.        , 0.        , 0.        , 0.        , 0.        ,\n",
       "        0.        , 0.        , 0.        , 0.3254902 , 0.99215686,\n",
       "        0.81960784, 0.07058824, 0.        , 0.        , 0.        ,\n",
       "        0.        , 0.        , 0.        ],\n",
       "       [0.        , 0.        , 0.        , 0.        , 0.        ,\n",
       "        0.        , 0.        , 0.        , 0.        , 0.        ,\n",
       "        0.        , 0.        , 0.        , 0.        , 0.        ,\n",
       "        0.        , 0.        , 0.08627451, 0.91372549, 1.        ,\n",
       "        0.3254902 , 0.        , 0.        , 0.        , 0.        ,\n",
       "        0.        , 0.        , 0.        ],\n",
       "       [0.        , 0.        , 0.        , 0.        , 0.        ,\n",
       "        0.        , 0.        , 0.        , 0.        , 0.        ,\n",
       "        0.        , 0.        , 0.        , 0.        , 0.        ,\n",
       "        0.        , 0.        , 0.50588235, 0.99607843, 0.93333333,\n",
       "        0.17254902, 0.        , 0.        , 0.        , 0.        ,\n",
       "        0.        , 0.        , 0.        ],\n",
       "       [0.        , 0.        , 0.        , 0.        , 0.        ,\n",
       "        0.        , 0.        , 0.        , 0.        , 0.        ,\n",
       "        0.        , 0.        , 0.        , 0.        , 0.        ,\n",
       "        0.        , 0.23137255, 0.97647059, 0.99607843, 0.24313725,\n",
       "        0.        , 0.        , 0.        , 0.        , 0.        ,\n",
       "        0.        , 0.        , 0.        ],\n",
       "       [0.        , 0.        , 0.        , 0.        , 0.        ,\n",
       "        0.        , 0.        , 0.        , 0.        , 0.        ,\n",
       "        0.        , 0.        , 0.        , 0.        , 0.        ,\n",
       "        0.        , 0.52156863, 0.99607843, 0.73333333, 0.01960784,\n",
       "        0.        , 0.        , 0.        , 0.        , 0.        ,\n",
       "        0.        , 0.        , 0.        ],\n",
       "       [0.        , 0.        , 0.        , 0.        , 0.        ,\n",
       "        0.        , 0.        , 0.        , 0.        , 0.        ,\n",
       "        0.        , 0.        , 0.        , 0.        , 0.        ,\n",
       "        0.03529412, 0.80392157, 0.97254902, 0.22745098, 0.        ,\n",
       "        0.        , 0.        , 0.        , 0.        , 0.        ,\n",
       "        0.        , 0.        , 0.        ],\n",
       "       [0.        , 0.        , 0.        , 0.        , 0.        ,\n",
       "        0.        , 0.        , 0.        , 0.        , 0.        ,\n",
       "        0.        , 0.        , 0.        , 0.        , 0.        ,\n",
       "        0.49411765, 0.99607843, 0.71372549, 0.        , 0.        ,\n",
       "        0.        , 0.        , 0.        , 0.        , 0.        ,\n",
       "        0.        , 0.        , 0.        ],\n",
       "       [0.        , 0.        , 0.        , 0.        , 0.        ,\n",
       "        0.        , 0.        , 0.        , 0.        , 0.        ,\n",
       "        0.        , 0.        , 0.        , 0.        , 0.29411765,\n",
       "        0.98431373, 0.94117647, 0.22352941, 0.        , 0.        ,\n",
       "        0.        , 0.        , 0.        , 0.        , 0.        ,\n",
       "        0.        , 0.        , 0.        ],\n",
       "       [0.        , 0.        , 0.        , 0.        , 0.        ,\n",
       "        0.        , 0.        , 0.        , 0.        , 0.        ,\n",
       "        0.        , 0.        , 0.        , 0.0745098 , 0.86666667,\n",
       "        0.99607843, 0.65098039, 0.        , 0.        , 0.        ,\n",
       "        0.        , 0.        , 0.        , 0.        , 0.        ,\n",
       "        0.        , 0.        , 0.        ],\n",
       "       [0.        , 0.        , 0.        , 0.        , 0.        ,\n",
       "        0.        , 0.        , 0.        , 0.        , 0.        ,\n",
       "        0.        , 0.        , 0.01176471, 0.79607843, 0.99607843,\n",
       "        0.85882353, 0.1372549 , 0.        , 0.        , 0.        ,\n",
       "        0.        , 0.        , 0.        , 0.        , 0.        ,\n",
       "        0.        , 0.        , 0.        ],\n",
       "       [0.        , 0.        , 0.        , 0.        , 0.        ,\n",
       "        0.        , 0.        , 0.        , 0.        , 0.        ,\n",
       "        0.        , 0.        , 0.14901961, 0.99607843, 0.99607843,\n",
       "        0.30196078, 0.        , 0.        , 0.        , 0.        ,\n",
       "        0.        , 0.        , 0.        , 0.        , 0.        ,\n",
       "        0.        , 0.        , 0.        ],\n",
       "       [0.        , 0.        , 0.        , 0.        , 0.        ,\n",
       "        0.        , 0.        , 0.        , 0.        , 0.        ,\n",
       "        0.        , 0.12156863, 0.87843137, 0.99607843, 0.45098039,\n",
       "        0.00392157, 0.        , 0.        , 0.        , 0.        ,\n",
       "        0.        , 0.        , 0.        , 0.        , 0.        ,\n",
       "        0.        , 0.        , 0.        ],\n",
       "       [0.        , 0.        , 0.        , 0.        , 0.        ,\n",
       "        0.        , 0.        , 0.        , 0.        , 0.        ,\n",
       "        0.        , 0.52156863, 0.99607843, 0.99607843, 0.20392157,\n",
       "        0.        , 0.        , 0.        , 0.        , 0.        ,\n",
       "        0.        , 0.        , 0.        , 0.        , 0.        ,\n",
       "        0.        , 0.        , 0.        ],\n",
       "       [0.        , 0.        , 0.        , 0.        , 0.        ,\n",
       "        0.        , 0.        , 0.        , 0.        , 0.        ,\n",
       "        0.23921569, 0.94901961, 0.99607843, 0.99607843, 0.20392157,\n",
       "        0.        , 0.        , 0.        , 0.        , 0.        ,\n",
       "        0.        , 0.        , 0.        , 0.        , 0.        ,\n",
       "        0.        , 0.        , 0.        ],\n",
       "       [0.        , 0.        , 0.        , 0.        , 0.        ,\n",
       "        0.        , 0.        , 0.        , 0.        , 0.        ,\n",
       "        0.4745098 , 0.99607843, 0.99607843, 0.85882353, 0.15686275,\n",
       "        0.        , 0.        , 0.        , 0.        , 0.        ,\n",
       "        0.        , 0.        , 0.        , 0.        , 0.        ,\n",
       "        0.        , 0.        , 0.        ],\n",
       "       [0.        , 0.        , 0.        , 0.        , 0.        ,\n",
       "        0.        , 0.        , 0.        , 0.        , 0.        ,\n",
       "        0.4745098 , 0.99607843, 0.81176471, 0.07058824, 0.        ,\n",
       "        0.        , 0.        , 0.        , 0.        , 0.        ,\n",
       "        0.        , 0.        , 0.        , 0.        , 0.        ,\n",
       "        0.        , 0.        , 0.        ],\n",
       "       [0.        , 0.        , 0.        , 0.        , 0.        ,\n",
       "        0.        , 0.        , 0.        , 0.        , 0.        ,\n",
       "        0.        , 0.        , 0.        , 0.        , 0.        ,\n",
       "        0.        , 0.        , 0.        , 0.        , 0.        ,\n",
       "        0.        , 0.        , 0.        , 0.        , 0.        ,\n",
       "        0.        , 0.        , 0.        ]])"
      ]
     },
     "execution_count": 36,
     "metadata": {},
     "output_type": "execute_result"
    }
   ],
   "source": [
    "x_test[i]"
   ]
  },
  {
   "cell_type": "code",
   "execution_count": 38,
   "metadata": {
    "colab": {
     "base_uri": "https://localhost:8080/",
     "height": 266
    },
    "id": "8qa1dlv0m8Ie",
    "outputId": "496b16b2-d0dc-41d0-866d-f72db6611aad"
   },
   "outputs": [
    {
     "name": "stdout",
     "output_type": "stream",
     "text": [
      "313/313 [==============================] - 0s 1ms/step\n"
     ]
    },
    {
     "data": {
      "image/png": "[encoded data removed]",
      "text/plain": [
       "<Figure size 2800x2800 with 20 Axes>"
      ]
     },
     "metadata": {},
     "output_type": "display_data"
    }
   ],
   "source": [
    "# Check a few sample images.\n",
    "decoded_imgs = autoencoder.predict(x_test)\n",
    "\n",
    "n = 10\n",
    "\n",
    "plt.figure(figsize=(28, 28))\n",
    "\n",
    "for i in range(n):\n",
    "    # \n",
    "    # Display original image - Just line sample code provided earlier.\n",
    "    #\n",
    "    ax = plt.subplot(2, n, i + 1)\n",
    "    plt.imshow(x_test[i].reshape(28,28))\n",
    "    plt.gray()\n",
    "    ax.get_xaxis().set_visible(False)\n",
    "    ax.get_yaxis().set_visible(False)\n",
    "\n",
    "    # \n",
    "    # Display reconstruced (decoded) images. You need to slightly change your code.\n",
    "    #\n",
    "    ax = plt.subplot(2, n, i+1+n)\n",
    "    plt.imshow(decoded_imgs[i].reshape(28, 28))\n",
    "    plt.gray()\n",
    "    ax.get_xaxis().set_visible(False)\n",
    "    ax.get_yaxis().set_visible(False)\n",
    "\n",
    "    \n",
    "plt.show()"
   ]
  },
  {
   "cell_type": "markdown",
   "metadata": {
    "id": "uBRgywR9m8Ie"
   },
   "source": [
    "# AutoEncoders for Denoising Images\n",
    "\n",
    "Use the same digit data set. Add Gaussian noise to it to train an autoencoder that removes noise. Test the noisy samples. "
   ]
  },
  {
   "cell_type": "code",
   "execution_count": 39,
   "metadata": {
    "id": "OdDjYQC5m8Ie"
   },
   "outputs": [],
   "source": [
    "from tensorflow.keras.layers import GaussianNoise"
   ]
  },
  {
   "cell_type": "code",
   "execution_count": 40,
   "metadata": {
    "id": "da3tX601m8Ie"
   },
   "outputs": [],
   "source": [
    "sample = GaussianNoise(0.2)\n",
    "noisey = sample(x_test[0:2],training=True)"
   ]
  },
  {
   "cell_type": "code",
   "execution_count": 41,
   "metadata": {
    "colab": {
     "base_uri": "https://localhost:8080/",
     "height": 283
    },
    "id": "QrTuAs-Hm8Ie",
    "outputId": "5e85506e-6980-4470-b322-eaf6c911bba5"
   },
   "outputs": [
    {
     "data": {
      "text/plain": [
       "<matplotlib.image.AxesImage at 0x16411c896f0>"
      ]
     },
     "execution_count": 41,
     "metadata": {},
     "output_type": "execute_result"
    },
    {
     "data": {
      "image/png": "[encoded data removed]",
      "text/plain": [
       "<Figure size 640x480 with 1 Axes>"
      ]
     },
     "metadata": {},
     "output_type": "display_data"
    }
   ],
   "source": [
    "plt.imshow(x_test[0])"
   ]
  },
  {
   "cell_type": "code",
   "execution_count": 42,
   "metadata": {
    "colab": {
     "base_uri": "https://localhost:8080/",
     "height": 283
    },
    "id": "-O6S5HhSm8If",
    "outputId": "3b2e48c8-b14d-4080-869d-734844ce5ac1"
   },
   "outputs": [
    {
     "data": {
      "text/plain": [
       "<matplotlib.image.AxesImage at 0x164162dff10>"
      ]
     },
     "execution_count": 42,
     "metadata": {},
     "output_type": "execute_result"
    },
    {
     "data": {
      "image/png": "[encoded data removed]",
      "text/plain": [
       "<Figure size 640x480 with 1 Axes>"
      ]
     },
     "metadata": {},
     "output_type": "display_data"
    }
   ],
   "source": [
    "plt.imshow(noisey[0])"
   ]
  },
  {
   "cell_type": "markdown",
   "metadata": {
    "id": "PCnzI8Mrm8If"
   },
   "source": [
    "### Create  noise removal autoencoder and train it.\n",
    "\n",
    "# Input - Images with noise\n",
    "# Labels - Clean images."
   ]
  },
  {
   "cell_type": "code",
   "execution_count": 43,
   "metadata": {
    "id": "sAwfn_Uqm8If"
   },
   "outputs": [],
   "source": [
    "\n",
    "encoder = Sequential()\n",
    "encoder.add(Flatten(input_shape=[28,28]))\n",
    "encoder.add(GaussianNoise(0.2)) # We are adding noise to make input as noisy image\n",
    "#\n",
    "# Add layers of encoder network. You could use same number of layers as earlier.\n",
    "#\n",
    "\n",
    "encoder.add(Dense(500, activation='relu'))\n",
    "encoder.add(Dense(300, activation='relu'))\n",
    "encoder.add(Dense(150, activation='relu'))\n",
    "encoder.add(Dense(50, activation='relu'))\n",
    "encoder.add(Dense(25, activation='relu'))\n"
   ]
  },
  {
   "cell_type": "code",
   "execution_count": 44,
   "metadata": {
    "id": "w51A8hiQm8If"
   },
   "outputs": [],
   "source": [
    "decoder = Sequential()\n",
    "decoder.add(Dense(50,input_shape=[25],activation='relu'))\n",
    "\n",
    "#\n",
    "# Add layers of decoder network. You could use same number of layers as earlier.\n",
    "#\n",
    "\n",
    "decoder.add(Dense(150, activation='relu'))\n",
    "decoder.add(Dense(300, activation='relu'))\n",
    "decoder.add(Dense(500, activation='relu'))\n",
    "\n",
    "decoder.add(Dense(28 * 28, activation=\"sigmoid\"))\n",
    "decoder.add(Reshape([28, 28]))"
   ]
  },
  {
   "cell_type": "code",
   "execution_count": 45,
   "metadata": {
    "id": "kHurlGFvm8If"
   },
   "outputs": [],
   "source": [
    "noise_remover = Sequential([encoder, decoder])"
   ]
  },
  {
   "cell_type": "code",
   "execution_count": 46,
   "metadata": {
    "id": "fpY3GDCBm8If"
   },
   "outputs": [],
   "source": [
    "# Compile the network as earlier\n",
    "noise_remover.compile(loss='binary_crossentropy',\n",
    "              optimizer='rmsprop',\n",
    "              metrics=['accuracy'])"
   ]
  },
  {
   "cell_type": "code",
   "execution_count": 47,
   "metadata": {},
   "outputs": [
    {
     "name": "stdout",
     "output_type": "stream",
     "text": [
      "Epoch 1/15\n",
      "1875/1875 [==============================] - 14s 7ms/step - loss: 0.2297 - accuracy: 0.1089 - val_loss: 0.1867 - val_accuracy: 0.1601\n",
      "Epoch 2/15\n",
      "1875/1875 [==============================] - 12s 7ms/step - loss: 0.1704 - accuracy: 0.1824 - val_loss: 0.1511 - val_accuracy: 0.2057\n",
      "Epoch 3/15\n",
      "1875/1875 [==============================] - 12s 7ms/step - loss: 0.1480 - accuracy: 0.2123 - val_loss: 0.1385 - val_accuracy: 0.2240\n",
      "Epoch 4/15\n",
      "1875/1875 [==============================] - 13s 7ms/step - loss: 0.1378 - accuracy: 0.2271 - val_loss: 0.1304 - val_accuracy: 0.2335\n",
      "Epoch 5/15\n",
      "1875/1875 [==============================] - 13s 7ms/step - loss: 0.1312 - accuracy: 0.2359 - val_loss: 0.1244 - val_accuracy: 0.2401\n",
      "Epoch 6/15\n",
      "1875/1875 [==============================] - 12s 6ms/step - loss: 0.1265 - accuracy: 0.2439 - val_loss: 0.1235 - val_accuracy: 0.2456\n",
      "Epoch 7/15\n",
      "1875/1875 [==============================] - 12s 6ms/step - loss: 0.1233 - accuracy: 0.2481 - val_loss: 0.1207 - val_accuracy: 0.2436\n",
      "Epoch 8/15\n",
      "1875/1875 [==============================] - 14s 7ms/step - loss: 0.1207 - accuracy: 0.2519 - val_loss: 0.1174 - val_accuracy: 0.2487\n",
      "Epoch 9/15\n",
      "1875/1875 [==============================] - 14s 7ms/step - loss: 0.1182 - accuracy: 0.2557 - val_loss: 0.1152 - val_accuracy: 0.2593\n",
      "Epoch 10/15\n",
      "1875/1875 [==============================] - 13s 7ms/step - loss: 0.1161 - accuracy: 0.2578 - val_loss: 0.1135 - val_accuracy: 0.2584\n",
      "Epoch 11/15\n",
      "1875/1875 [==============================] - 13s 7ms/step - loss: 0.1145 - accuracy: 0.2608 - val_loss: 0.1114 - val_accuracy: 0.2612\n",
      "Epoch 12/15\n",
      "1875/1875 [==============================] - 12s 6ms/step - loss: 0.1130 - accuracy: 0.2636 - val_loss: 0.1121 - val_accuracy: 0.2650\n",
      "Epoch 13/15\n",
      "1875/1875 [==============================] - 12s 6ms/step - loss: 0.1116 - accuracy: 0.2660 - val_loss: 0.1083 - val_accuracy: 0.2675\n",
      "Epoch 14/15\n",
      "1875/1875 [==============================] - 12s 6ms/step - loss: 0.1104 - accuracy: 0.2682 - val_loss: 0.1072 - val_accuracy: 0.2654\n",
      "Epoch 15/15\n",
      "1875/1875 [==============================] - 12s 6ms/step - loss: 0.1091 - accuracy: 0.2702 - val_loss: 0.1052 - val_accuracy: 0.2772\n"
     ]
    }
   ],
   "source": [
    "# Fit the network as earlier.\n",
    "history2 = noise_remover.fit( x_train, x_train,\n",
    "                # the number of times of training using the whole dataset\n",
    "                    epochs=15,\n",
    "                    \n",
    "                    validation_data =(x_test,x_test),\n",
    "                    \n",
    "                # Boolean (whether to shuffle the training data before each epoch)\n",
    "                    shuffle = True,\n",
    "                \n",
    "                # 1 = progress bar printing\n",
    "                    verbose = 1)\n",
    "                    \n",
    "                # early stopping    \n",
    "                    #callbacks=[early_stop] )"
   ]
  },
  {
   "cell_type": "code",
   "execution_count": 48,
   "metadata": {
    "id": "rQXenyFYm8Ig"
   },
   "outputs": [],
   "source": [
    "ten_noisey_images = sample(x_test[0:10],training=True)\n",
    "denoised = noise_remover(ten_noisey_images[0:10])"
   ]
  },
  {
   "cell_type": "code",
   "execution_count": 49,
   "metadata": {
    "id": "2IJtMOcKm8Ig",
    "scrolled": true
   },
   "outputs": [
    {
     "name": "stdout",
     "output_type": "stream",
     "text": [
      "The Original\n"
     ]
    },
    {
     "data": {
      "image/png": "[encoded data removed]",
      "text/plain": [
       "<Figure size 640x480 with 1 Axes>"
      ]
     },
     "metadata": {},
     "output_type": "display_data"
    },
    {
     "name": "stdout",
     "output_type": "stream",
     "text": [
      "The Noisey Version\n"
     ]
    },
    {
     "data": {
      "image/png": "[encoded data removed]",
      "text/plain": [
       "<Figure size 640x480 with 1 Axes>"
      ]
     },
     "metadata": {},
     "output_type": "display_data"
    },
    {
     "name": "stdout",
     "output_type": "stream",
     "text": [
      "After going through denoiser\n"
     ]
    },
    {
     "data": {
      "image/png": "[encoded data removed]",
      "text/plain": [
       "<Figure size 640x480 with 1 Axes>"
      ]
     },
     "metadata": {},
     "output_type": "display_data"
    }
   ],
   "source": [
    "n = 4\n",
    "print(\"The Original\")\n",
    "plt.imshow(x_test[n])\n",
    "plt.show()\n",
    "\n",
    "\n",
    "print(\"The Noisey Version\")\n",
    "plt.imshow(ten_noisey_images[n])\n",
    "plt.show()\n",
    "\n",
    "\n",
    "print(\"After going through denoiser\")\n",
    "plt.imshow(denoised[n])\n",
    "plt.show()"
   ]
  },
  {
   "cell_type": "code",
   "execution_count": 50,
   "metadata": {},
   "outputs": [
    {
     "name": "stdout",
     "output_type": "stream",
     "text": [
      "Model: \"sequential_8\"\n",
      "_________________________________________________________________\n",
      " Layer (type)                Output Shape              Param #   \n",
      "=================================================================\n",
      " sequential_6 (Sequential)   (None, 25)                596775    \n",
      "                                                                 \n",
      " sequential_7 (Sequential)   (None, 28, 28)            597534    \n",
      "                                                                 \n",
      "=================================================================\n",
      "Total params: 1194309 (4.56 MB)\n",
      "Trainable params: 1194309 (4.56 MB)\n",
      "Non-trainable params: 0 (0.00 Byte)\n",
      "_________________________________________________________________\n"
     ]
    }
   ],
   "source": [
    "noise_remover.summary()"
   ]
  },
  {
   "cell_type": "markdown",
   "metadata": {},
   "source": [
    "## Lab Logbook requirement:\n",
    "\n",
    "- Put the model summary for task 1 in you lab logbook.\n",
    "\n",
    "Ensure that no code or other information is added to the logbook and that only required information is present.  Marks will not be awarded if anything else is found in the logbook or instructions are not clearly followed.\n",
    "\n",
    "NOTE: DON'T FORGET TO SAVE AND BACK UP YOUR COMPLETED JUPYTER NOTEBOOK AND LAB LOGBOOK ON GITHUB OR ONEDRIVE."
   ]
  }
 ],
 "metadata": {
  "colab": {
   "provenance": []
  },
  "kernelspec": {
   "display_name": "Python 3 (ipykernel)",
   "language": "python",
   "name": "python3"
  },
  "language_info": {
   "codemirror_mode": {
    "name": "ipython",
    "version": 3
   },
   "file_extension": ".py",
   "mimetype": "text/x-python",
   "name": "python",
   "nbconvert_exporter": "python",
   "pygments_lexer": "ipython3",
   "version": "3.10.9"
  }
 },
 "nbformat": 4,
 "nbformat_minor": 1
}
